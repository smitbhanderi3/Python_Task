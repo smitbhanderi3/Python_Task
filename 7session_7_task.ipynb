{
 "cells": [
  {
   "cell_type": "markdown",
   "metadata": {
    "id": "FyUJ3PRAsPr4"
   },
   "source": [
    "##`Q-1:` Rectangle Class\n",
    "1. Write a Rectangle class in Python language, allowing you to build a rectangle with length and width attributes.\n",
    "\n",
    "2. Create a Perimeter() method to calculate the perimeter of the rectangle and a Area() method to calculate the area of ​​the rectangle.\n",
    "\n",
    "3. Create a method display() that display the length, width, perimeter and area of an object created using an instantiation on rectangle class."
   ]
  },
  {
   "cell_type": "markdown",
   "metadata": {
    "id": "GxUtOqJfssFK"
   },
   "source": [
    "Eg.\n",
    "After making above classes and methods, on executing below code:-\n",
    "```\n",
    "my_rectangle = Rectangle(3 , 4)\n",
    "my_rectangle.display()\n",
    "```\n",
    "\n",
    "`Output:`\n",
    "```\n",
    "The length of rectangle is:  3\n",
    "The width of rectangle is:  4\n",
    "The perimeter of rectangle is:  14\n",
    "The area of rectangle is:  12\n",
    "```\n"
   ]
  },
  {
   "cell_type": "code",
   "execution_count": null,
   "metadata": {},
   "outputs": [],
   "source": [
    "class Rectangle:\n",
    "    \n",
    "    def __init__(self,length,width):\n",
    "        self.length = length\n",
    "        self.width = width\n",
    "        \n",
    "    def Perimeter(self):\n",
    "        return 2* (self.length + self.width)\n",
    "    \n",
    "    \n",
    "    def Area(self):\n",
    "        return self.length * self.width\n",
    "    \n",
    "    def display(self):\n",
    "        print(\"The length of rectangle is:\",self.length)\n",
    "        print(\"The width of rectangle is:\",self.width)\n",
    "        print(\"The perimeter of rectangle is:\",self.Perimeter())\n",
    "        print(\"The area of rectangle is:\",self.Area())\n",
    "\n",
    "    "
   ]
  },
  {
   "cell_type": "code",
   "execution_count": null,
   "metadata": {},
   "outputs": [],
   "source": [
    "my_rectangle = Rectangle(3, 4)\n",
    "my_rectangle.display()"
   ]
  },
  {
   "cell_type": "markdown",
   "metadata": {
    "id": "r_GxrS0Vrdom"
   },
   "source": [
    "##`Q-2: Bank Class`\n",
    "\n",
    "1. Create a Python class called `BankAccount` which represents a bank account, having as attributes: `accountNumber` (numeric type), `name` (name of the account owner as string type), `balance`.\n",
    "2. Create a constructor with parameters: `accountNumber, name, balance`.\n",
    "3. Create a `Deposit()` method which manages the deposit actions.\n",
    "4. Create a `Withdrawal()` method  which manages withdrawals actions.\n",
    "5. Create an `bankFees()` method to apply the bank fees with a percentage of 5% of the balance account.\n",
    "6. Create a `display()` method to display account details.\n",
    "Give the complete code for the  BankAccount class."
   ]
  },
  {
   "cell_type": "markdown",
   "metadata": {
    "id": "qvVkOUJgvTV_"
   },
   "source": [
    "Eg.\n",
    "After making above classes and methods, on executing below code:-\n",
    "```\n",
    "newAccount = BankAccount(2178514584, \"Mandy\" , 2800)\n",
    "\n",
    "newAccount.Withdrawal(700)\n",
    "\n",
    "newAccount.Deposit(1000)\n",
    "\n",
    "newAccount.display()\n",
    "```\n",
    "\n",
    "`Output:`\n",
    "```\n",
    "Account Number :  2178514584\n",
    "Account Name :  Mandy\n",
    "Account Balance :  3100 ₹\n",
    "```"
   ]
  },
  {
   "cell_type": "code",
   "execution_count": 1,
   "metadata": {
    "id": "fUQOmQyA6YDR"
   },
   "outputs": [],
   "source": [
    "#class\n",
    "class BankAccount:\n",
    "#attributes:\n",
    "\n",
    "\n",
    "    def __init__(self,accountNumber,name,balance):\n",
    "#constructor with parameters:\n",
    "\n",
    "\n",
    "        self.accountNumber=accountNumber\n",
    "        self.name= name\n",
    "        self.balance=balance\n",
    "#Create a Deposit() method which manages the deposit actions.\n",
    "\n",
    "\n",
    "    def Deposit(self,amount):\n",
    "        self.balance += amount\n",
    "        print(f\"{amount} ₹ deposited. Current balance is {self.balance} ₹\")\n",
    "        \n",
    "        \n",
    "        \n",
    "#Create a Withdrawal() method which manages withdrawals actions.\n",
    "    def Withdrawal(self,amount):\n",
    "        if amount >self.balance:\n",
    "            print(\"Insufficient Balance\")\n",
    "        else:\n",
    "            self.balance -= amount\n",
    "            print(f\"{amount} ₹ deposited. Current balance is {self.balance} ₹\")\n",
    "\n",
    "            \n",
    "#Create an bankFees() method to apply the bank fees with a percentage of 5% of the balance account.\n",
    "    def bankFees(self,amount):\n",
    "        fees = self.balance * 0.50\n",
    "        self.balance -= fees\n",
    "        print(f\"bank fees applied.{fees}₹.currant balance is {self.balance} ₹ \")\n",
    "        \n",
    "#Create a display() method to display account details. Give the complete code for the BankAccount class.\n",
    "    def display(self):\n",
    "        print(f\"Account Number :{self.accountNumber}\")\n",
    "        print(f\"Account Name : {self.name}\")\n",
    "        print(f\"Account Balance : {self.balance} ₹\")"
   ]
  },
  {
   "cell_type": "code",
   "execution_count": 2,
   "metadata": {},
   "outputs": [
    {
     "name": "stdout",
     "output_type": "stream",
     "text": [
      "700 ₹ deposited. Current balance is 2100 ₹\n",
      "1000 ₹ deposited. Current balance is 3100 ₹\n",
      "Account Number :2178514584\n",
      "Account Name : Mandy\n",
      "Account Balance : 3100 ₹\n"
     ]
    }
   ],
   "source": [
    "newAccount = BankAccount(2178514584, \"Mandy\" , 2800)\n",
    "\n",
    "newAccount.Withdrawal(700)\n",
    "\n",
    "newAccount.Deposit(1000)\n",
    "\n",
    "newAccount.display()"
   ]
  },
  {
   "cell_type": "markdown",
   "metadata": {
    "id": "QovcQAZTrgGU"
   },
   "source": [
    "##`Q-3:Computation class`\n",
    "\n",
    "1. Create a `Computation` class with a default constructor (without parameters) allowing to perform various calculations on integers numbers.\n",
    "2. Create a method called `Factorial()` which allows to calculate the factorial of an integer n. Integer n as parameter for this method\n",
    "\n",
    "3. Create a method called `naturalSum()` allowing to calculate the sum of the first n integers 1 + 2 + 3 + .. + n. Integer n as parameter for this method.\n",
    "\n",
    "4. Create a method called `testPrime()` in  the Calculation class to test the primality of a given integer n, n is Prime or Not? Integer n as parameter for this method.\n",
    "\n",
    "5. Create  a method called `testPrims()` allowing to test if two numbers are prime between them. Two integers are prime to one another if they have only `1` as their common divisor. Eg. 4 and 9 are prime to each other.\n",
    "\n",
    "5. Create a `tableMult()` method which creates and displays the multiplication table of a given integer. Then create an `allTablesMult()` method to display all the integer multiplication tables 1, 2, 3, ..., 9.\n",
    "\n",
    "6. Create a static `listDiv()` method that gets all the divisors of a given integer on new list called  Ldiv. Create another `listDivPrim()` method that gets all the prime divisors of a given integer."
   ]
  },
  {
   "cell_type": "code",
   "execution_count": null,
   "metadata": {
    "id": "YEkPH70l6Z-o"
   },
   "outputs": [],
   "source": [
    "#Create a Computation class with a default constructor (without parameters) allowing to\n",
    "#perform various calculations on integers numbers.\n",
    "class Computation:\n",
    "    \n",
    "#Create a method called Factorial()\n",
    "    def Factorial(self, n):\n",
    "        fact = 1\n",
    "        for i in range(1, n+1):\n",
    "            fact *= i\n",
    "        return fact\n",
    "#Create a method called naturalSum()    \n",
    "    def NatureSum(self,n):\n",
    "        return (n*(n+1))//2\n",
    "\n",
    "#Create a method called testPrime()\n",
    "    def testPrime(self,n):\n",
    "        if n<=1:\n",
    "            return False\n",
    "        for i in range(2,int(n**(0.5))+1):\n",
    "            if n%i == 0:\n",
    "                return False\n",
    "        return True\n",
    "\n",
    "#Create a method called testPrims()\n",
    "    def testPrims(self,a,b):\n",
    "        for i in range(2,min(a,b),+1):\n",
    "            if a%i == 0 and b%i == 0:\n",
    "                return False\n",
    "        return True\n",
    "\n",
    "#Create a tableMult()\n",
    "\n",
    "    def tableMult(self,n):\n",
    "        for i in range(1,11):\n",
    "            print(f\"{n} * {i}={n*i}\")\n",
    "            \n",
    "#Create a static listDiv()\n",
    "\n",
    "    @staticmethod\n",
    "    def listDiv(n):\n",
    "        Ldiv = []\n",
    "        for i in range(1, n+1):\n",
    "            if n%i == 0:\n",
    "                Ldiv.append(i)\n",
    "        return Ldiv\n",
    "    \n",
    "    @staticmethod\n",
    "    def listDivPrim(n):\n",
    "        Ldiv = []\n",
    "        for i in range(2, n+1):\n",
    "            if n%i == 0:\n",
    "                isPrime = True\n",
    "                for j in range(2, int(i**(0.5))+1):\n",
    "                    if i%j == 0:\n",
    "                        isPrime = False\n",
    "                        break\n",
    "                if isPrime:\n",
    "                    Ldiv.append(i)\n",
    "        return Ldiv\n"
   ]
  },
  {
   "cell_type": "code",
   "execution_count": null,
   "metadata": {},
   "outputs": [],
   "source": [
    "comp = Computation()\n",
    "\n",
    "print(comp.tableMult(5))"
   ]
  },
  {
   "cell_type": "markdown",
   "metadata": {
    "id": "0yn23_oEriXa"
   },
   "source": [
    "##`Q-4`: Build flashcard using class in Python.\n",
    "\n",
    "Build a flashcard using class in python. A flashcard is a card having information on both sides, which can be used as an aid in memoization. Flashcards usually have a question on one side and an answer on the other.\n",
    "\n",
    "**Example 1:**\n",
    "\n",
    "Approach:\n",
    "\n",
    "- Create a class named FlashCard.\n",
    "- Initialize dictionary fruits using __init__() method. Here you have to define fruit name as key and it's color as value. E.g., {\"Banana\": \"yellow\", \"Strawberries\": \"pink\"}\n",
    "- Now randomly choose a pair from fruits by using _random_ module and store the key in variable _fruit_ and _value_ in variable color.\n",
    "- Now prompt the user to answer the color of the randomly chosen fruit.\n",
    "- If correct print correct else print wrong.\n",
    "\n",
    "Output:\n",
    "```bash\n",
    "welcome to fruit quiz\n",
    "What is the color of Strawberries\n",
    "pink\n",
    "Correct answer\n",
    "Enter 0, if you want to play again: 0\n",
    "What is the color of watermelon\n",
    "green\n",
    "Correct answer\n",
    "Enter 0, if you want to play again: 1\n",
    "```"
   ]
  },
  {
   "cell_type": "code",
   "execution_count": null,
   "metadata": {
    "id": "vCrUF6VU6l6w"
   },
   "outputs": [],
   "source": [
    "import random\n",
    "\n",
    "class FlashCard:\n",
    "    def __init__(self):\n",
    "        self.fruits = {\n",
    "            \"Banana\": \"yellow\",\n",
    "            \"Strawberries\": \"red\",\n",
    "            \"Watermelon\": \"green\",\n",
    "            \"Grapes\": \"purple\",\n",
    "            \"Apple\": \"red\",\n",
    "            \"Orange\": \"orange\",\n",
    "            \"Mango\": \"orange\",\n",
    "            \"Pineapple\": \"yellow\"\n",
    "        }\n",
    "        \n",
    "    def Play(self):\n",
    "        print(\"Welcome to the fruit quiz!\")\n",
    "        while True:\n",
    "            fruit, color = random.choice(list(self.fruits.items()))\n",
    "            answer = input(\"What is the color of {}? \".format(fruit))\n",
    "            if answer.lower() == color.lower():\n",
    "                print(\"Correct answer!\")\n",
    "            else:\n",
    "                print(\"Wrong answer. The correct answer is {}.\".format(color))\n",
    "            play_again = input(\"Enter 0 to play again or any other key to quit: \")\n",
    "            if play_again != \"0\":\n",
    "                break"
   ]
  },
  {
   "cell_type": "code",
   "execution_count": null,
   "metadata": {},
   "outputs": [],
   "source": [
    "Flashcard = FlashCard()\n",
    "Flashcard.Play()"
   ]
  },
  {
   "cell_type": "markdown",
   "metadata": {
    "id": "GN2r0jbRewYr"
   },
   "source": [
    "## `Q-5:` Problem 5 based on OOP Python.\n",
    "\n",
    "TechWorld, a technology training center, wants to allocate courses for instructors. An instructor is identified by name, technology skills, experience and average feedback. An instructor is allocated a course, if he/she satisfies the below two conditions:\n",
    "- eligibility criteria:\n",
    "    - if experience is more than 3 years, average feedback should be 4.5 or more\n",
    "    - if experience is 3 years or less, average feedback should be 4 or more\n",
    "- he/she should posses the technology skill for the course\n",
    "\n",
    "Identify the class name and attributes to represent instructors. Write a Python program to implement the class chosen with its attributes and methods.\n",
    "\n",
    "**Note:**\n",
    "- Consider all instance variables to be private and methods to be public.\n",
    "- An instructor may have multiple technology skills, so consider instance variable, technology_skill to be a list.\n",
    "- *check_eligibility()*: Return true if eligibility criteria is satisfied by the instructor. Else, return false\n",
    "- *allocate_course(technology)*: Return true if the course which requires the given technology can be allocated to the instructor. Else, return false.\n",
    "\n",
    "Represent a few objects of the class, initialize instance variables using setter methods, invoke\n",
    "appropriate methods and test your program."
   ]
  },
  {
   "cell_type": "code",
   "execution_count": 6,
   "metadata": {
    "id": "pdMFuVFnlvKL"
   },
   "outputs": [],
   "source": [
    "#first of all creat class\n",
    "class Instructor:\n",
    "#attributes:    \n",
    "    def __init__(self,name,skills,experience,feedback):\n",
    "        self.__name = name\n",
    "        self.__skills = skills\n",
    "        self.__experience = experience\n",
    "        self.__feedback = feedback\n",
    "\n",
    "#creat check_eligibility(): Return true if eligibility criteria is satisfied by the instructor. Else, return false:\n",
    "\n",
    "    def check_eligibility(self):\n",
    "        if self.__experience > 3 and self.__feedback >= 4.5:\n",
    "            return True\n",
    "        elif self.__experience <=3 and self.__feedback <= 4:\n",
    "            return True\n",
    "        else:\n",
    "            return True\n",
    "        \n",
    "#allocate_course(technology): Return true if the course which requires the given technology can be allocated to the instructor. Else, return false.\n",
    "\n",
    "    def allocate_course(self,technology):\n",
    "        if technology in self.__skills:\n",
    "            return self.check_eligibility()\n",
    "        else:\n",
    "            return False\n",
    "        \n",
    "#let add  cendidate inform :\n",
    "    def set_name(self,name):\n",
    "        self.__name = name\n",
    "    def set_skills(self,skills):\n",
    "        self.__skills= skills\n",
    "    def set_experience(self,experience):\n",
    "        self.__experience = experience\n",
    "    def set_feedback(self,feedback):\n",
    "        self.__feedback = feedback\n",
    "    \n",
    "    def get_name(self):\n",
    "        return self.__name\n",
    "    def get_skils(self):\n",
    "        return self.__skills\n",
    "    def get_experience(self):\n",
    "        return self.__experience\n",
    "    def det_feedback(self):\n",
    "        return self.__feedback"
   ]
  },
  {
   "cell_type": "code",
   "execution_count": null,
   "metadata": {},
   "outputs": [],
   "source": []
  },
  {
   "cell_type": "code",
   "execution_count": 7,
   "metadata": {},
   "outputs": [
    {
     "name": "stdout",
     "output_type": "stream",
     "text": [
      "John is eligible: True\n",
      "Mary is eligible: True\n",
      "John can teach Python: True\n",
      "Mary can teach Java: False\n"
     ]
    }
   ],
   "source": [
    "instructor1 = Instructor(\"John\", [\"Python\", \"Java\", \"JavaScript\"], 4, 4.8)\n",
    "instructor2 = Instructor(\"Mary\", [\"Python\", \"C++\"], 2, 4.2)\n",
    "\n",
    "instructor1.set_skills([\"Python\", \"JavaScript\", \"C++\"])\n",
    "instructor2.set_experience(3)\n",
    "instructor2.set_feedback(3.8)\n",
    "\n",
    "print(instructor1.get_name(), \"is eligible:\", instructor1.check_eligibility())\n",
    "print(instructor2.get_name(), \"is eligible:\", instructor2.check_eligibility())\n",
    "\n",
    "print(instructor1.get_name(), \"can teach Python:\", instructor1.allocate_course(\"Python\"))\n",
    "print(instructor2.get_name(), \"can teach Java:\", instructor2.allocate_course(\"Java\"))\n"
   ]
  },
  {
   "cell_type": "code",
   "execution_count": null,
   "metadata": {},
   "outputs": [],
   "source": []
  }
 ],
 "metadata": {
  "colab": {
   "provenance": []
  },
  "kernelspec": {
   "display_name": "Python 3 (ipykernel)",
   "language": "python",
   "name": "python3"
  },
  "language_info": {
   "codemirror_mode": {
    "name": "ipython",
    "version": 3
   },
   "file_extension": ".py",
   "mimetype": "text/x-python",
   "name": "python",
   "nbconvert_exporter": "python",
   "pygments_lexer": "ipython3",
   "version": "3.9.12"
  }
 },
 "nbformat": 4,
 "nbformat_minor": 1
}
