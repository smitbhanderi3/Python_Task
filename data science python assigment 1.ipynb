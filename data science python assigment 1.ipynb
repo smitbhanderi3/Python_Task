{
 "cells": [
  {
   "cell_type": "code",
   "execution_count": null,
   "id": "bf62bd61",
   "metadata": {},
   "outputs": [],
   "source": [
    "#1)Write a python program to sum of the first n positive integers\n",
    "n=int(input(\"input_a_number:\"))\n",
    "                        \n",
    "sum_num=(n*(n+1))/2\n",
    "print(\"sum_of_the_frist\",n,\"positive_integers\",sum_num)\n",
    "\n",
    "        "
   ]
  },
  {
   "cell_type": "code",
   "execution_count": null,
   "id": "7698fdb1",
   "metadata": {},
   "outputs": [],
   "source": []
  },
  {
   "cell_type": "code",
   "execution_count": null,
   "id": "59ad6d0d",
   "metadata": {},
   "outputs": [],
   "source": []
  },
  {
   "cell_type": "code",
   "execution_count": null,
   "id": "966e5b0a",
   "metadata": {},
   "outputs": [],
   "source": []
  },
  {
   "cell_type": "code",
   "execution_count": null,
   "id": "2e55f915",
   "metadata": {},
   "outputs": [],
   "source": []
  },
  {
   "cell_type": "code",
   "execution_count": null,
   "id": "54a32971",
   "metadata": {},
   "outputs": [],
   "source": [
    "#2)Write a Python program to count occurrences of a substring in a string.\n",
    "str=input(\"enter string\")\n",
    "str1=input(\"enter substring\")\n",
    "f=0\n",
    "for i in range(len(str)):\n",
    "    for j in range(len(str1)):\n",
    "        if str[i]==str1[j]:\n",
    "            j=j=1\n",
    "        else:\n",
    "                j=0\n",
    "    if j==len(str1):\n",
    "        f=1\n",
    "        print(\"Sustring found at\",i-len(str1)+1)\n",
    "if f==0:\n",
    "    print(\"not found\")\n",
    "        \n",
    "    \n",
    "        \n",
    "                "
   ]
  },
  {
   "cell_type": "markdown",
   "id": "42aaa55d",
   "metadata": {},
   "source": []
  },
  {
   "cell_type": "code",
   "execution_count": null,
   "id": "2a78733e",
   "metadata": {},
   "outputs": [],
   "source": [
    "#3)Write a Python program to count the occurrences of each word in a given sentence.\n",
    "str=input(\"Enter Line Of String\")\n",
    "str=str.split()\n",
    "i=0\n",
    "count=0\n",
    "while i<len(str):\n",
    "    count=0\n",
    "\n",
    "    for j in str:\n",
    "        if str[i]==j:\n",
    "            count=count+1\n",
    "    print(str[i],\"present\",count,\"Times\")\n",
    "    \n",
    "    i=i+1 \n"
   ]
  },
  {
   "cell_type": "code",
   "execution_count": null,
   "id": "2b3faafe",
   "metadata": {},
   "outputs": [],
   "source": [
    "#4)Write a Python program to get a single string from two given strings, separated by a space and swap the first\n",
    "two characters of each string. \n",
    "v2,v1 =\"abc\",\"rst\"\n",
    "temp = v2\n",
    "v2=v1[0:2]+ v2[2:]\n",
    "v1= temp[0:2] +v1[2:]\n",
    "print(v2+' '+v1)\n",
    "#  print(v1)"
   ]
  },
  {
   "cell_type": "code",
   "execution_count": 12,
   "id": "eec772fa",
   "metadata": {},
   "outputs": [],
   "source": [
    "#5)Write a Python program to add 'ing' at the end of a given string (length should be at least 3).\n",
    "#If the given string already ends with 'ing' then add 'ly' instead If the string length of the given\n",
    "#string is less than 3, leave it unchanged.\n"
   ]
  },
  {
   "cell_type": "code",
   "execution_count": null,
   "id": "8edf1a13",
   "metadata": {},
   "outputs": [],
   "source": [
    "#6)Write a Python program to find the first appearance of the substring 'not' and 'poor' from a given string, if\n",
    "#'not' follows the 'poor', replace the whole 'not'...'poor' substring with 'good'. \n",
    "def not_poor(str1):\n",
    "  snot = str1.find('not')\n",
    "  spoor = str1.find('poor')\n",
    "  \n",
    "\n",
    "  if spoor > snot and snot>0 and spoor>0:\n",
    "    str1 = str1.replace(str1[snot:(spoor+4)], 'good')\n",
    "    return str1\n",
    "  else:\n",
    "    return str1\n",
    "print(not_poor('The lyrics is not that poor!'))\n",
    "print(not_poor('The lyrics is poor!'))\n",
    "\n"
   ]
  },
  {
   "cell_type": "code",
   "execution_count": null,
   "id": "6f9519df",
   "metadata": {},
   "outputs": [],
   "source": [
    "#7)Program to find Greatest Common Divisor of two numbers.\n",
    "#For example, the GCD of 20 and 28 is 4 and GCD of 98 and 56 is 14.\n"
   ]
  },
  {
   "cell_type": "code",
   "execution_count": null,
   "id": "d2bbe3ee",
   "metadata": {},
   "outputs": [],
   "source": [
    "#8)Write a Python program to check whether a list contains a sublist.\n",
    "test_list=[5,6,3,8,2,1,7,1]\n",
    "sublist=[8,2,3]\n",
    "          "
   ]
  },
  {
   "cell_type": "code",
   "execution_count": null,
   "id": "69a3f2d7",
   "metadata": {},
   "outputs": [],
   "source": [
    "#9)Write a Python program to find the second smallest number in a list.\n",
    "num=[1,2,3,4,5,6,7,5,4,3,2,2,2,0]\n",
    "sm=float('inf')\n",
    "ssm=float('inf')\n",
    "\n",
    "for num in num:\n",
    "    if num<=sm:\n",
    "        sm,ssm=num,sm\n",
    "    elif num<ssm:\n",
    "        ssm=num\n",
    "    \n",
    "sm"
   ]
  },
  {
   "cell_type": "code",
   "execution_count": 32,
   "id": "86cefc2c",
   "metadata": {},
   "outputs": [
    {
     "name": "stdout",
     "output_type": "stream",
     "text": [
      "[1, 4, 5, 3, 2]\n"
     ]
    }
   ],
   "source": [
    "#10)Write a Python program to get unique values from a list.\n",
    "list=[1,4,5,3,2,3,4,5,4]\n",
    "unique_list=[]\n",
    "for a in list:\n",
    "    if a not in unique_list:\n",
    "        unique_list.append(a)\n",
    "print(unique_list)        "
   ]
  },
  {
   "cell_type": "code",
   "execution_count": 7,
   "id": "fbd7ec92",
   "metadata": {},
   "outputs": [
    {
     "ename": "TypeError",
     "evalue": "'list' object is not callable",
     "output_type": "error",
     "traceback": [
      "\u001b[1;31m---------------------------------------------------------------------------\u001b[0m",
      "\u001b[1;31mTypeError\u001b[0m                                 Traceback (most recent call last)",
      "Input \u001b[1;32mIn [7]\u001b[0m, in \u001b[0;36m<cell line: 4>\u001b[1;34m()\u001b[0m\n\u001b[0;32m      1\u001b[0m \u001b[38;5;66;03m#11). Write a Python program to unzip a list of tuples into individual lists.\u001b[39;00m\n\u001b[0;32m      3\u001b[0m lst\u001b[38;5;241m=\u001b[39m [(\u001b[38;5;241m4\u001b[39m,\u001b[38;5;241m3\u001b[39m),(\u001b[38;5;241m5\u001b[39m,\u001b[38;5;241m6\u001b[39m),(\u001b[38;5;241m8\u001b[39m,\u001b[38;5;241m8\u001b[39m)]\n\u001b[1;32m----> 4\u001b[0m \u001b[38;5;28mprint\u001b[39m(\u001b[38;5;28;43mlist\u001b[39;49m\u001b[43m \u001b[49m\u001b[43m(\u001b[49m\u001b[38;5;28;43mzip\u001b[39;49m\u001b[43m(\u001b[49m\u001b[38;5;241;43m*\u001b[39;49m\u001b[43mlst\u001b[49m\u001b[43m)\u001b[49m\u001b[43m)\u001b[49m)\n",
      "\u001b[1;31mTypeError\u001b[0m: 'list' object is not callable"
     ]
    }
   ],
   "source": [
    "#11). Write a Python program to unzip a list of tuples into individual lists.\n",
    "\n",
    "lst= [(4,3),(5,6),(8,8)]\n",
    "print(list (zip(*lst)))\n"
   ]
  },
  {
   "cell_type": "code",
   "execution_count": 1,
   "id": "baf88544",
   "metadata": {
    "scrolled": true
   },
   "outputs": [
    {
     "ename": "NameError",
     "evalue": "name 'dictionary' is not defined",
     "output_type": "error",
     "traceback": [
      "\u001b[1;31m---------------------------------------------------------------------------\u001b[0m",
      "\u001b[1;31mNameError\u001b[0m                                 Traceback (most recent call last)",
      "Input \u001b[1;32mIn [1]\u001b[0m, in \u001b[0;36m<cell line: 6>\u001b[1;34m()\u001b[0m\n\u001b[0;32m      3\u001b[0m lt\u001b[38;5;241m=\u001b[39m[(\u001b[38;5;124m'\u001b[39m\u001b[38;5;124msmit\u001b[39m\u001b[38;5;124m'\u001b[39m,\u001b[38;5;241m12\u001b[39m),(\u001b[38;5;124m'\u001b[39m\u001b[38;5;124mparth\u001b[39m\u001b[38;5;124m'\u001b[39m,\u001b[38;5;241m13\u001b[39m),(\u001b[38;5;124m'\u001b[39m\u001b[38;5;124mharsh\u001b[39m\u001b[38;5;124m'\u001b[39m,\u001b[38;5;241m14\u001b[39m)]\n\u001b[0;32m      5\u001b[0m disctionary\u001b[38;5;241m=\u001b[39m\u001b[38;5;28mdict\u001b[39m(lt)\n\u001b[1;32m----> 6\u001b[0m \u001b[38;5;28mprint\u001b[39m(\u001b[38;5;124m'\u001b[39m\u001b[38;5;124mmy dictionary\u001b[39m\u001b[38;5;124m'\u001b[39m,\u001b[43mdictionary\u001b[49m)\n\u001b[0;32m      8\u001b[0m key\u001b[38;5;241m=\u001b[39mdictionary\u001b[38;5;241m.\u001b[39mkey()\n\u001b[0;32m      9\u001b[0m \u001b[38;5;28mprint\u001b[39m(\u001b[38;5;124m'\u001b[39m\u001b[38;5;124mkey\u001b[39m\u001b[38;5;124m'\u001b[39m,keys)\n",
      "\u001b[1;31mNameError\u001b[0m: name 'dictionary' is not defined"
     ]
    }
   ],
   "source": [
    "#12)Write a Python program to convert a list of tuples into a dictionary.\n",
    "\n",
    "lt=[('smit',12),('parth',13),('harsh',14)]\n",
    "\n",
    "disctionary=dict(lt)\n",
    "print('my dictionary',dictionary)\n",
    "\n",
    "key=dictionary.key()\n",
    "print('key',keys)\n",
    "     \n",
    "values=dictionar.values()\n",
    "print('values',values)\n"
   ]
  },
  {
   "cell_type": "code",
   "execution_count": null,
   "id": "5737d04b",
   "metadata": {},
   "outputs": [],
   "source": [
    "#13)Write a Python program to sort a dictionary (ascending /descending) by value.\n",
    "\n",
    "import operator\n",
    "d={'python':90,'cpp';100'java':80,'php':60}\n",
    "print(\"original dictionary =\",d)\n",
    "\n",
    "#ascending\n",
    "asc=dict(srorted(d.itrms(),key=operator.inemgetter(1)))\n",
    "print(\"ascending=\",asc)\n",
    "\n",
    "#descending\n",
    "dsc=disr(sorted(d.items(),key=operator.itemgetter(1),reverse=true))\n",
    "print(\"descending=\",dsc)"
   ]
  },
  {
   "cell_type": "code",
   "execution_count": 5,
   "id": "72e8e46d",
   "metadata": {},
   "outputs": [
    {
     "ename": "NameError",
     "evalue": "name 'largest' is not defined",
     "output_type": "error",
     "traceback": [
      "\u001b[1;31m---------------------------------------------------------------------------\u001b[0m",
      "\u001b[1;31mNameError\u001b[0m                                 Traceback (most recent call last)",
      "Input \u001b[1;32mIn [5]\u001b[0m, in \u001b[0;36m<cell line: 4>\u001b[1;34m()\u001b[0m\n\u001b[0;32m      1\u001b[0m \u001b[38;5;66;03m#14)Write a Python program to find the highest 3 values in a dictionary.\u001b[39;00m\n\u001b[0;32m      3\u001b[0m num\u001b[38;5;241m=\u001b[39m{\u001b[38;5;124m'\u001b[39m\u001b[38;5;124ma\u001b[39m\u001b[38;5;124m'\u001b[39m:\u001b[38;5;241m500\u001b[39m,\u001b[38;5;124m'\u001b[39m\u001b[38;5;124mb\u001b[39m\u001b[38;5;124m'\u001b[39m:\u001b[38;5;241m5874\u001b[39m,\u001b[38;5;124m'\u001b[39m\u001b[38;5;124mc\u001b[39m\u001b[38;5;124m'\u001b[39m:\u001b[38;5;241m560\u001b[39m,\u001b[38;5;124m'\u001b[39m\u001b[38;5;124md\u001b[39m\u001b[38;5;124m'\u001b[39m:\u001b[38;5;241m400\u001b[39m,\u001b[38;5;124m'\u001b[39m\u001b[38;5;124me\u001b[39m\u001b[38;5;124m'\u001b[39m:\u001b[38;5;241m555874\u001b[39m}\n\u001b[1;32m----> 4\u001b[0m three_largest\u001b[38;5;241m=\u001b[39m\u001b[43mlargest\u001b[49m(\u001b[38;5;241m3\u001b[39m,my_dict,key\u001b[38;5;241m=\u001b[39m\u001b[38;5;28mdict\u001b[39m\u001b[38;5;241m.\u001b[39mget)\n\u001b[0;32m      5\u001b[0m \u001b[38;5;28mprint\u001b[39m(three_largest)\n",
      "\u001b[1;31mNameError\u001b[0m: name 'largest' is not defined"
     ]
    }
   ],
   "source": [
    "#14)Write a Python program to find the highest 3 values in a dictionary.\n",
    "\n",
    "num={'a':500,'b':5874,'c':560,'d':400,'e':555874}\n",
    "three_largest=largest(3,my_dict,key=dict.get)\n",
    "print(three_largest)\n"
   ]
  },
  {
   "cell_type": "code",
   "execution_count": null,
   "id": "8016eccf",
   "metadata": {},
   "outputs": [],
   "source": []
  }
 ],
 "metadata": {
  "kernelspec": {
   "display_name": "Python 3 (ipykernel)",
   "language": "python",
   "name": "python3"
  },
  "language_info": {
   "codemirror_mode": {
    "name": "ipython",
    "version": 3
   },
   "file_extension": ".py",
   "mimetype": "text/x-python",
   "name": "python",
   "nbconvert_exporter": "python",
   "pygments_lexer": "ipython3",
   "version": "3.9.12"
  }
 },
 "nbformat": 4,
 "nbformat_minor": 5
}
