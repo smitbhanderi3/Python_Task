{
 "cells": [
  {
   "cell_type": "code",
   "execution_count": null,
   "id": "fe4991b4",
   "metadata": {},
   "outputs": [],
   "source": [
    "#1)What is List? How will you reverse a list?\n",
    "# list is mutebale fonction in ppython.\n",
    "#ex:- l1[1,2,\"smit,44,55,etr....\"]\n",
    "\n",
    "\n",
    "#how will you reverse a list.\n",
    "\n",
    "l1=[1,33,66,57,89]\n",
    "l1.reverse()\n",
    "\n",
    "l1\n"
   ]
  },
  {
   "cell_type": "code",
   "execution_count": null,
   "id": "ba0e4293",
   "metadata": {},
   "outputs": [],
   "source": [
    "#2)How will you remove last object from a list?\n",
    "\n",
    "l1=[\"smit\",\"parth\",\"kevin\",\"harsh\",\"paryag\"]\n",
    "l1.remove(\"paryag\")\n",
    "\n",
    "\n",
    "l1"
   ]
  },
  {
   "cell_type": "code",
   "execution_count": null,
   "id": "5d3add62",
   "metadata": {},
   "outputs": [],
   "source": [
    "#3)Suppose list1 is [2, 33, 222, 14, and 25], what is list1 [-1]?\n",
    "\n",
    "l1=2,33,222,14,25\n",
    "print(l1)\n",
    "    \n",
    "print=(l1[::-1])\n",
    "\n",
    "\n"
   ]
  },
  {
   "cell_type": "code",
   "execution_count": null,
   "id": "9b7f4958",
   "metadata": {},
   "outputs": [],
   "source": [
    "#4)Differentiate between append () and extend () methods?\n",
    "\n",
    "#ex: append\n",
    "\n",
    "l1=[22,400.5,'jagruti',True,[44,66]]\n",
    "l1.append(56)\n",
    "\n",
    "l1"
   ]
  },
  {
   "cell_type": "code",
   "execution_count": null,
   "id": "8aa22571",
   "metadata": {},
   "outputs": [],
   "source": [
    "#ex: exrend\n",
    "\n",
    "\n",
    "l1=[22,400.5,'jagruti',True,[44,66]]\n",
    "l1.extend([56,\"a\",33])\n",
    "\n",
    "l1"
   ]
  },
  {
   "cell_type": "code",
   "execution_count": null,
   "id": "bb606c9f",
   "metadata": {},
   "outputs": [],
   "source": [
    "#5)Write a Python function to get the largest number, smallest num and sum \n",
    "#of all from a list.\n",
    "\n",
    "#largest number\n",
    "\n",
    "l1={11,22,45,46,67,990}\n",
    "print(max(l1))\n",
    "\n",
    "l1"
   ]
  },
  {
   "cell_type": "code",
   "execution_count": null,
   "id": "c86df975",
   "metadata": {},
   "outputs": [],
   "source": [
    "#smallest number\n",
    "\n",
    "l1={11,22,45,46,67,990}\n",
    "print(min(l1))\n",
    "\n",
    "l1"
   ]
  },
  {
   "cell_type": "code",
   "execution_count": null,
   "id": "941dbc8b",
   "metadata": {},
   "outputs": [],
   "source": [
    "#6)How will you compare two lists?\n",
    "l1=[1,3,7,5,8,9]\n",
    "l2=[1,3,7,5,8,0]\n",
    "\n",
    "if l1==l2:\n",
    "    print (True)\n",
    "else:\n",
    "    print(False)\n"
   ]
  },
  {
   "cell_type": "code",
   "execution_count": null,
   "id": "84a05d56",
   "metadata": {},
   "outputs": [],
   "source": [
    "#7)Write a Python program to count the number of strings where the string \n",
    "#length is 2 or more and the first and last character are same from a given \n",
    "#list of strings. \n",
    "words= ['abc','xyz','aba','1221','343']\n",
    "count=0\n",
    "for word in words:\n",
    "    if len(word)>1 and word[0]==word[-1]:\n",
    "        count+=1\n",
    "print(count)"
   ]
  },
  {
   "cell_type": "code",
   "execution_count": null,
   "id": "54c9ea28",
   "metadata": {},
   "outputs": [],
   "source": [
    "#8)Write a Python program to remove duplicates from a list.\n",
    "\n",
    "l1=[10,20,20,30,40,50]\n",
    "\n",
    "l1=set()\n",
    "\n",
    "l1\n"
   ]
  },
  {
   "cell_type": "code",
   "execution_count": null,
   "id": "194b79e0",
   "metadata": {},
   "outputs": [],
   "source": [
    "#9) write a python program to chack a list is empty or not.\n",
    "\n",
    "list1=[]\n",
    "\n",
    "if len(list1)==0:\n",
    "    print(\"the list is empty\")\n",
    "else:\n",
    "    print(\"the list is not empty\")\n",
    "    \n"
   ]
  },
  {
   "cell_type": "code",
   "execution_count": null,
   "id": "910e421a",
   "metadata": {},
   "outputs": [],
   "source": [
    "#10)Write a Python function that takes two lists and returns true if they have \n",
    "#at least one common member.\n",
    "\n",
    "\n",
    "l1=[1,2,3,4,5]\n",
    "l2=[5,6,7,8,9]\n",
    "for i in l1:\n",
    "    for j in l2:\n",
    "        if(i==j):\n",
    "            print=(True)"
   ]
  },
  {
   "cell_type": "code",
   "execution_count": null,
   "id": "060664a9",
   "metadata": {},
   "outputs": [],
   "source": [
    "#12)Write a Python program to generate and print a list of first and last 5 \n",
    "#elements where the values are square of numbers between 1 and 30.\n",
    "\n",
    "#1to6\n",
    "#6to26\n",
    "#26to31\n",
    "\n",
    "list=[]\n",
    "for i in range(1,6):\n",
    "    list+=[i**2]\n",
    "    \n",
    "for i in range(6,26):\n",
    "    list+=[i]\n",
    "    \n",
    "for i in range(26,31):\n",
    "    list+=[i**2]\n",
    "    \n",
    "\n",
    "print(list)\n"
   ]
  },
  {
   "cell_type": "code",
   "execution_count": null,
   "id": "beee348f",
   "metadata": {},
   "outputs": [],
   "source": [
    "#13)Write a Python function that takes a list and returns a new list with unique elements of the first list.\n",
    "\n",
    "f=(1,2,3,2,4,5,6,5)\n",
    "l=list(f)\n",
    "for i in  l:\n",
    "    if l.count(i)>1:\n",
    "        l.remove(i)\n",
    "        \n",
    "f=tuple(l)\n",
    "f\n",
    "        \n",
    "\n"
   ]
  },
  {
   "cell_type": "code",
   "execution_count": null,
   "id": "990cbc89",
   "metadata": {},
   "outputs": [],
   "source": [
    "#14)Write a Python program to convert a list of characters into a string.\n",
    "\n",
    "list1=('s','m','i','t')\n",
    "list2=''.join(list1)\n",
    "list2\n"
   ]
  },
  {
   "cell_type": "code",
   "execution_count": null,
   "id": "fc101629",
   "metadata": {},
   "outputs": [],
   "source": [
    "#15)Write a Python program to select an item randomly from a list.\n",
    "\n",
    "\n"
   ]
  },
  {
   "cell_type": "code",
   "execution_count": null,
   "id": "e528f2b4",
   "metadata": {},
   "outputs": [],
   "source": [
    "#16)Write a Python program to find the second smallest number in a list.\n",
    "\n"
   ]
  },
  {
   "cell_type": "code",
   "execution_count": null,
   "id": "d12e391f",
   "metadata": {},
   "outputs": [],
   "source": [
    "#17)Write a Python program to get unique values from a list.\n",
    "\n",
    "f=(10,20,30,20,40,50,60,50)\n",
    "l=list(f)\n",
    "for i in  l:\n",
    "    if l.count(i)>1:\n",
    "        l.remove(i)\n",
    "        \n",
    "f=tuple(l)\n",
    "f"
   ]
  },
  {
   "cell_type": "code",
   "execution_count": null,
   "id": "da7a87af",
   "metadata": {},
   "outputs": [],
   "source": [
    "#18)Write a Python program to check whether a list contains a sub list.\n",
    "\n",
    "def is_Sublist(l, s):\n",
    "    sub_set = False\n",
    "    if s == []:\n",
    "        sub_set = True\n",
    "    elif s == l:\n",
    "        sub_set = True\n",
    "    elif len(s) > len(l):\n",
    "        sub_set = False\n",
    "\n",
    "    else:\n",
    "        for i in range(len(l)):\n",
    "            if l[i] == s[0]:\n",
    "                n = 1\n",
    "                while (n < len(s)) and (l[i+n] == s[n]):\n",
    "                        n += 1\n",
    "                        if n == len(s):\n",
    "                        sub_set = True\n",
    "    return sub_set\n",
    "\n",
    "\n"
   ]
  },
  {
   "cell_type": "code",
   "execution_count": null,
   "id": "41ef5021",
   "metadata": {},
   "outputs": [],
   "source": [
    "#19)Write a Python program to split a list into different variables.\n",
    "\n",
    "color=[(\"black\"),(\"blue\"),(\"red\",\"orenge\")]\n",
    "var1,var2,var3=color\n",
    "print(var1)\n",
    "print(var2)\n",
    "print(var3)"
   ]
  },
  {
   "cell_type": "code",
   "execution_count": null,
   "id": "093e2123",
   "metadata": {},
   "outputs": [],
   "source": [
    "#20)What is tuple? Difference between list and tuple.\n",
    "\n",
    "#->tuple are multiple items in a singal variable in one store.\n",
    "#->tuple and kry differnce of key and tuple are immmuatable while list is mutable.\n"
   ]
  },
  {
   "cell_type": "code",
   "execution_count": null,
   "id": "ef906ed4",
   "metadata": {},
   "outputs": [],
   "source": [
    "#21)Write a Python program to create a tuple with different data types.\n",
    "\n",
    "tuple1=tuple((\"apple\",\"smit\",\"parth\",33,66))\n",
    "print(tuple1)\n",
    "list1=[12,'python',67]\n",
    "print(tuple(list1))"
   ]
  },
  {
   "cell_type": "code",
   "execution_count": null,
   "id": "c3b45ece",
   "metadata": {},
   "outputs": [],
   "source": [
    "21)Write a Python program to create a tuple with numbers.\n",
    "\n",
    "t1=33,5,66,34,88\n",
    "print(t1)"
   ]
  },
  {
   "cell_type": "code",
   "execution_count": null,
   "id": "66b30080",
   "metadata": {},
   "outputs": [],
   "source": [
    "#22)Write a Python program to convert a tuple to a string.\n",
    "\n",
    "tuple1=['s','m','i','t','b','h','a','n','d','e','r','i'] \n",
    "str1= ''.join(tuple1)\n",
    "print(str1)"
   ]
  },
  {
   "cell_type": "code",
   "execution_count": null,
   "id": "c5e8b1ad",
   "metadata": {},
   "outputs": [],
   "source": [
    "#23)Write a Python program to check whether an element exists within a tuple.\n",
    "\n",
    "tuple=(\"smit\",\"python\",\"66\",\"p\")\n",
    "print(\"smit\"in tuple)\n",
    "print(\"parth\" in tuple)\n"
   ]
  },
  {
   "cell_type": "code",
   "execution_count": null,
   "id": "ebb073e8",
   "metadata": {},
   "outputs": [],
   "source": [
    "#24)Write a Python program to find the length of a tuple.\n",
    "\n",
    "\n",
    "tuple=\"smitbhanderi\"\n",
    "count=0\n",
    "while tuple[count:]:\n",
    "    count=count+1\n",
    "print(count)\n"
   ]
  },
  {
   "cell_type": "code",
   "execution_count": null,
   "id": "5db3615e",
   "metadata": {},
   "outputs": [],
   "source": [
    "#25)Write a Python program to convert a list to a tuple.\n",
    "\n",
    "list1=[5,22,56,778,999]\n",
    "print(list1)\n",
    "\n",
    "tuple1=tuple(list1)\n",
    "print(tuple1)\n"
   ]
  },
  {
   "cell_type": "code",
   "execution_count": 2,
   "id": "02974235",
   "metadata": {},
   "outputs": [
    {
     "name": "stdout",
     "output_type": "stream",
     "text": [
      "('7777', '555', '444', '333', '22', '1')\n"
     ]
    }
   ],
   "source": [
    "#26)Write a Python program to reverse a tuple.\n",
    "\n",
    "tuple1= (\"1\",\"22\",\"333\",\"444\",\"555\",\"7777\")\n",
    "tuple2=reversed(tuple1)\n",
    "print(tuple(tuple2))\n"
   ]
  },
  {
   "cell_type": "code",
   "execution_count": null,
   "id": "eeedea7d",
   "metadata": {},
   "outputs": [],
   "source": [
    "#27)Write a Python program to replace last value of tuples in a list.\n",
    "\n",
    "tuple1="
   ]
  }
 ],
 "metadata": {
  "kernelspec": {
   "display_name": "Python 3 (ipykernel)",
   "language": "python",
   "name": "python3"
  },
  "language_info": {
   "codemirror_mode": {
    "name": "ipython",
    "version": 3
   },
   "file_extension": ".py",
   "mimetype": "text/x-python",
   "name": "python",
   "nbconvert_exporter": "python",
   "pygments_lexer": "ipython3",
   "version": "3.9.12"
  }
 },
 "nbformat": 4,
 "nbformat_minor": 5
}
