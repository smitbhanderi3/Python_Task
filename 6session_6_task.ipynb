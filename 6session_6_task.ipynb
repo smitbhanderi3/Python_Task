{
 "cells": [
  {
   "cell_type": "markdown",
   "metadata": {
    "id": "h6dDSW5XGZFi"
   },
   "source": [
    "### **`Problem-1:`** Write a Python function that takes a list and returns a new list with unique elements of the first list.\n",
    "\n",
    "**Exercise 1:**\n",
    "\n",
    "Input:\n",
    "\n",
    "```bash\n",
    "[1,2,3,3,3,3,4,5]\n",
    "```\n",
    "\n",
    "Output:\n",
    "\n",
    "```bash\n",
    "[1, 2, 3, 4, 5]\n",
    "```"
   ]
  },
  {
   "cell_type": "code",
   "execution_count": 1,
   "metadata": {
    "id": "R5pq1C9LGe1y"
   },
   "outputs": [],
   "source": [
    "def get_unique_elements(lst):\n",
    "    return list(set(lst))"
   ]
  },
  {
   "cell_type": "code",
   "execution_count": 2,
   "metadata": {},
   "outputs": [
    {
     "data": {
      "text/plain": [
       "[1, 2, 3, 4, 5]"
      ]
     },
     "execution_count": 2,
     "metadata": {},
     "output_type": "execute_result"
    }
   ],
   "source": [
    "list1=[1,2,3,3,3,3,4,5]\n",
    "\n",
    "get_unique_elements(list1)"
   ]
  },
  {
   "cell_type": "markdown",
   "metadata": {
    "id": "UxQ_VoyJGwHj"
   },
   "source": [
    "### **`Problem-2:`** Write a Python function that accepts a hyphen-separated sequence of words as parameter and returns the words in a hyphen-separated sequence after sorting them alphabetically.\n",
    "\n",
    "**Example 1:**\n",
    "\n",
    "Input:\n",
    "```bash\n",
    "green-red-yellow-black-white\n",
    "```\n",
    "\n",
    "Output:\n",
    "```bash\n",
    "black-green-red-white-yellow\n",
    "```"
   ]
  },
  {
   "cell_type": "code",
   "execution_count": 6,
   "metadata": {
    "id": "AAts2m5zGwiQ"
   },
   "outputs": [],
   "source": [
    "def sort_hyphen_sequence(seq):\n",
    "    words=seq.split(\"-\")\n",
    "    sorted_words= sorted(words)\n",
    "    sorted_seq=\"-\".join(sorted_words)\n",
    "    return sorted_seq"
   ]
  },
  {
   "cell_type": "code",
   "execution_count": 7,
   "metadata": {},
   "outputs": [
    {
     "name": "stdout",
     "output_type": "stream",
     "text": [
      "black-green-red-white-yellow\n"
     ]
    }
   ],
   "source": [
    "input=\"green-red-yellow-black-white\"\n",
    "output=sort_hyphen_sequence(input)\n",
    "print(output)"
   ]
  },
  {
   "cell_type": "markdown",
   "metadata": {
    "id": "IRGH62S7Gx_n"
   },
   "source": [
    "### **`Problem 3:`** Write a Python function that accepts a string and calculate the number of upper case letters and lower case letters.\n",
    "\n",
    "```\n",
    "Sample String : 'CampusX is an Online Mentorship Program fOr EnginEering studentS.'\n",
    "Expected Output :\n",
    "No. of Upper case characters :  9\n",
    "No. of Lower case Characters :  47\n",
    "```"
   ]
  },
  {
   "cell_type": "code",
   "execution_count": 5,
   "metadata": {
    "id": "OaUrD8vVG5o8"
   },
   "outputs": [],
   "source": [
    "def string_test(s):\n",
    "    d={\"UPPER_CASE\":0, \"lower_case\":0}\n",
    "    for i in s:\n",
    "        if i.isupper():\n",
    "            d[\"UPPER_CASE\"]+=1\n",
    "        elif i.islower():\n",
    "            d[\"lower_case\"]+=1\n",
    "        else:\n",
    "            pass\n",
    "\n",
    "    print(\"sample string :\", s)\n",
    "    print(\"total number of UPPER_CASE :\",d[\"UPPER_CASE\"])\n",
    "    print(\"total number of lower_case:\",d[\"lower_case\"])"
   ]
  },
  {
   "cell_type": "code",
   "execution_count": 6,
   "metadata": {},
   "outputs": [
    {
     "name": "stdout",
     "output_type": "stream",
     "text": [
      "sample string : CampusX is an Online Mentorship Program fOr EnginEering studentS.\n",
      "total number of UPPER_CASE : 9\n",
      "total number of lower_case: 47\n"
     ]
    }
   ],
   "source": [
    "string_test('CampusX is an Online Mentorship Program fOr EnginEering studentS.')"
   ]
  },
  {
   "cell_type": "markdown",
   "metadata": {
    "id": "V1BFFdYQG7Sn"
   },
   "source": [
    "\n",
    "### **`Problem 4:`** Write a Python program to print the even numbers from a given list.\n",
    "```\n",
    "Sample List : [1, 2, 3, 4, 5, 6, 7, 8, 9]\n",
    "Expected Result : [2, 4, 6, 8]\n",
    "```"
   ]
  },
  {
   "cell_type": "code",
   "execution_count": 39,
   "metadata": {
    "id": "VvAReLoDG_Z3"
   },
   "outputs": [],
   "source": [
    "def is_even_num(l):\n",
    "    enum=[]\n",
    "    for n in l:\n",
    "        if n % 2 == 0:\n",
    "            enum.append(n)\n",
    "    return enum\n"
   ]
  },
  {
   "cell_type": "code",
   "execution_count": 40,
   "metadata": {},
   "outputs": [
    {
     "name": "stdout",
     "output_type": "stream",
     "text": [
      "[2, 4, 6, 8]\n"
     ]
    }
   ],
   "source": [
    "print(is_even_num([1, 2, 3, 4, 5, 6, 7, 8, 9]))\n"
   ]
  },
  {
   "cell_type": "markdown",
   "metadata": {
    "id": "qrK39Gn-HHb4"
   },
   "source": [
    "### **`Problem 5:`** Write a Python function to check whether a number is perfect or not.\n",
    "\n",
    "A Perfect number is a number that is half the sum of all of its positive divisors (including itself).\n",
    "\n",
    "Example : \n",
    "\n",
    "```\n",
    "The first perfect number is 6, because 1, 2, and 3 are its proper positive divisors, and 1 + 2 + 3 = 6. \n",
    "Equivalently, the number 6 is equal to half the sum of all its positive divisors: ( 1 + 2 + 3 + 6 ) / 2 = 6. \n",
    "\n",
    "The next perfect number is 28 = 1 + 2 + 4 + 7 + 14. This is followed by the perfect numbers 496 and 8128.\n",
    "```\n"
   ]
  },
  {
   "cell_type": "code",
   "execution_count": 43,
   "metadata": {
    "id": "P-OI7H78HICs"
   },
   "outputs": [],
   "source": [
    "def perfect_num(n):\n",
    "    sum = 0\n",
    "    for i in range(1,n):\n",
    "        if n % i == 0:\n",
    "            sum += i\n",
    "    return  sum == n            "
   ]
  },
  {
   "cell_type": "code",
   "execution_count": 48,
   "metadata": {},
   "outputs": [
    {
     "name": "stdout",
     "output_type": "stream",
     "text": [
      "True\n"
     ]
    }
   ],
   "source": [
    "print(perfect_num(8128))"
   ]
  },
  {
   "cell_type": "markdown",
   "metadata": {
    "id": "oZdpcG77HO-6"
   },
   "source": [
    "### **`Problem-6:`** Write a Python function to concatenate any no of dictionaries to create a new one.\n",
    "\n",
    "```\n",
    "Sample Dictionary :\n",
    "dic1={1:10, 2:20}\n",
    "dic2={3:30, 4:40}\n",
    "dic3={5:50,6:60}\n",
    "Expected Result : {1: 10, 2: 20, 3: 30, 4: 40, 5: 50, 6: 60}\n",
    "```"
   ]
  },
  {
   "cell_type": "code",
   "execution_count": 63,
   "metadata": {},
   "outputs": [],
   "source": [
    "def concat_dicts(*dicts):\n",
    "    dict4 = {}\n",
    "    for i in dicts:\n",
    "        dict4.update(i)\n",
    "    return dict4"
   ]
  },
  {
   "cell_type": "code",
   "execution_count": 64,
   "metadata": {
    "id": "LQgfAY4ZHPhj"
   },
   "outputs": [
    {
     "name": "stdout",
     "output_type": "stream",
     "text": [
      "{1: 10, 2: 20, 3: 30, 4: 40, 5: 50, 6: 60}\n"
     ]
    }
   ],
   "source": [
    "dic1={1:10, 2:20}\n",
    "dic2={3:30, 4:40}\n",
    "dic3={5:50,6:60}\n",
    "\n",
    "dic4= concat_dicts(dic1, dic2, dic3)\n",
    "print(dic4)"
   ]
  },
  {
   "cell_type": "markdown",
   "metadata": {
    "id": "jQ6SzbCkHRd0"
   },
   "source": [
    "`Problem-7` Write a python function that accepts a string as input and returns the word with most occurence.\n",
    "\n",
    "```\n",
    "Input:\n",
    "hello how are you i am fine thank you\n",
    "```\n",
    "\n",
    "```\n",
    "Output\n",
    "you -> 2\n",
    "```"
   ]
  },
  {
   "cell_type": "code",
   "execution_count": 68,
   "metadata": {},
   "outputs": [],
   "source": [
    "def most_frequent_word(text):\n",
    "    words = text.split()\n",
    "    word_count = {}\n",
    "    for word in words:\n",
    "        if word in word_count:\n",
    "            word_count[word] += 1\n",
    "        else:\n",
    "            word_count[word] = 1\n",
    "    most_frequent = max(word_count, key=word_count.get)\n",
    "    return f\"{most_frequent} -> {word_count[most_frequent]}\""
   ]
  },
  {
   "cell_type": "code",
   "execution_count": 71,
   "metadata": {},
   "outputs": [
    {
     "name": "stdout",
     "output_type": "stream",
     "text": [
      "you -> 2\n"
     ]
    }
   ],
   "source": [
    "text='hello how are you i am fine thank you'\n",
    "print(most_frequent_word(text))"
   ]
  },
  {
   "cell_type": "markdown",
   "metadata": {
    "id": "1r8SpVntI-IW"
   },
   "source": [
    "`Problem-8` Write a python function that receives a list of integers and prints out a histogram of bin size 10\n",
    "\n",
    "```\n",
    "Input:\n",
    "[13,42,15,37,22,39,41,50]\n",
    "```\n",
    "\n",
    "```\n",
    "Output:\n",
    "{11-20:2,21-30:1,31-40:2,41-50:3}\n",
    "```"
   ]
  },
  {
   "cell_type": "code",
   "execution_count": 84,
   "metadata": {
    "id": "7W0J8rUjJovg"
   },
   "outputs": [],
   "source": [
    "def histogram(lst):\n",
    "    bins = {}\n",
    "    for num in lst:\n",
    "        bin = num // 10\n",
    "        if bin in bins:\n",
    "            bins[bin] += 1\n",
    "        else:\n",
    "            bins[bin] = 1\n",
    "    \n",
    "    for bin , count in bins.items():\n",
    "        bin_min  = bin * 10 +1\n",
    "        bin_max = (bin+1) * 10\n",
    "        print(f\"{bin_min}-{bin_max}:{count}\")\n",
    "    "
   ]
  },
  {
   "cell_type": "code",
   "execution_count": 91,
   "metadata": {},
   "outputs": [
    {
     "name": "stdout",
     "output_type": "stream",
     "text": [
      "11-20:2\n",
      "41-50:2\n",
      "31-40:2\n",
      "21-30:1\n",
      "51-60:1\n"
     ]
    }
   ],
   "source": [
    "lst=[13,42,15,37,22,39,41,50]\n",
    "(histogram(lst))"
   ]
  },
  {
   "cell_type": "code",
   "execution_count": null,
   "metadata": {},
   "outputs": [],
   "source": []
  },
  {
   "cell_type": "markdown",
   "metadata": {
    "id": "1P2-rbgXKE53"
   },
   "source": [
    "`Problem-9` Write a python function that accepts a list of 2D co-ordinates and a query point, and then finds the the co-ordinate which is closest in terms of distance from the query point.\n",
    "\n",
    "```\n",
    "List of Coordinates\n",
    "[(1,1),(2,2),(3,3),(4,4)]\n",
    "Query Point\n",
    "(0,0)\n",
    "```\n",
    "\n",
    "```\n",
    "Output\n",
    "Nearest to (0,0) is (1,1)\n",
    "```"
   ]
  },
  {
   "cell_type": "code",
   "execution_count": 100,
   "metadata": {
    "id": "zjn7vSTIJ81G"
   },
   "outputs": [],
   "source": [
    "import math\n",
    "\n",
    "def find_nearest_coordinate(coordinates, query_point):\n",
    "    # Initialize the minimum distance and nearest coordinate\n",
    "    min_distance = float('inf')\n",
    "    nearest_coordinate = None\n",
    "\n",
    "    # Iterate over each coordinate in the list\n",
    "    for coordinate in coordinates:\n",
    "        # Calculate the distance between the coordinate and the query point\n",
    "        distance = math.sqrt((coordinate[0] - query_point[0])**2 + (coordinate[1] - query_point[1])**2)\n",
    "\n",
    "        # If this distance is smaller than the minimum distance seen so far, update the minimum distance and nearest coordinate\n",
    "        if distance < min_distance:\n",
    "            min_distance = distance\n",
    "            nearest_coordinate = coordinate\n",
    "\n",
    "    # Return the nearest coordinate\n",
    "    return nearest_coordinate\n"
   ]
  },
  {
   "cell_type": "code",
   "execution_count": 101,
   "metadata": {},
   "outputs": [
    {
     "name": "stdout",
     "output_type": "stream",
     "text": [
      "Nearest to (0, 0) is (1, 1)\n"
     ]
    }
   ],
   "source": [
    "coordinates = [(1,1),(2,2),(3,3),(4,4)]\n",
    "query_point = (0,0)\n",
    "nearest_coordinate = find_nearest_coordinate(coordinates, query_point)\n",
    "print(f\"Nearest to {query_point} is {nearest_coordinate}\")\n"
   ]
  },
  {
   "cell_type": "markdown",
   "metadata": {
    "id": "i-B6igmyK9hB"
   },
   "source": [
    "`Problem-10`:Write a python program that receives a list of strings and performs bag of word operation on those strings\n",
    "\n",
    "https://en.wikipedia.org/wiki/Bag-of-words_model"
   ]
  },
  {
   "cell_type": "markdown",
   "metadata": {
    "id": "dHTRKb-DqMLw"
   },
   "source": [
    "###`Problem 11:` Write a Python program to add three given lists using Python map and lambda."
   ]
  },
  {
   "cell_type": "code",
   "execution_count": 102,
   "metadata": {
    "id": "NfJdzyNZqNW-"
   },
   "outputs": [
    {
     "name": "stdout",
     "output_type": "stream",
     "text": [
      "[12, 15, 18]\n"
     ]
    }
   ],
   "source": [
    "list1 = [1, 2, 3]\n",
    "list2 = [4, 5, 6]\n",
    "list3 = [7, 8, 9]\n",
    "\n",
    "result = list(map(lambda x, y, z: x + y + z, list1, list2, list3))\n",
    "print(result)\n"
   ]
  },
  {
   "cell_type": "markdown",
   "metadata": {
    "id": "MgHP7mbUqO8l"
   },
   "source": [
    "###`Problem-12:`Write a Python program to create a list containing the power of said number in bases raised to the corresponding number in the index using Python map.\n",
    "`Input:`\n",
    "```\n",
    "list1 = [1,2,3,4,5,6]\n",
    "```\n",
    "`Output:`\n",
    "```\n",
    "[1,2,9,64,625,-]\n",
    "```\n"
   ]
  },
  {
   "cell_type": "code",
   "execution_count": 105,
   "metadata": {
    "id": "gG3Dc6N3qbvN"
   },
   "outputs": [
    {
     "name": "stdout",
     "output_type": "stream",
     "text": [
      "[1, 2, 9, 64, 625, 7776]\n"
     ]
    }
   ],
   "source": [
    "list1 = [1,2,3,4,5,6]\n",
    "\n",
    "result = (list(map(lambda x,y:x ** y if y < len(list1) else \"-\",list1,range(len(list1)))))\n",
    "print(result)"
   ]
  },
  {
   "cell_type": "markdown",
   "metadata": {
    "id": "G26SYq6vqdLN"
   },
   "source": [
    "###`Problem-13` Using filter() and list() functions and .lower() method filter all the vowels in a given string.\n",
    "\n"
   ]
  },
  {
   "cell_type": "code",
   "execution_count": 108,
   "metadata": {
    "id": "zurga3DIqmEx"
   },
   "outputs": [
    {
     "name": "stdout",
     "output_type": "stream",
     "text": [
      "['e', 'o', 'o']\n"
     ]
    }
   ],
   "source": [
    "def filter_vowels(string):\n",
    "    vowels = [\"a\", \"e\", \"i\", \"o\", \"u\"]\n",
    "    filtered = list(filter(lambda x: x.lower() in vowels, string))\n",
    "    return filtered\n",
    "\n",
    "string = \"Hello, World!\"\n",
    "vowels = filter_vowels(string)\n",
    "\n",
    "print(vowels)\n"
   ]
  },
  {
   "cell_type": "markdown",
   "metadata": {
    "id": "uQrsunZSqoYu"
   },
   "source": [
    "`Problem-14`: Use reduce to convert a 2D list to 1D"
   ]
  },
  {
   "cell_type": "code",
   "execution_count": 110,
   "metadata": {
    "id": "E1YUwnfgqnka"
   },
   "outputs": [
    {
     "name": "stdout",
     "output_type": "stream",
     "text": [
      "[1, 2, 3, 4, 5, 6, 7, 8, 9]\n"
     ]
    }
   ],
   "source": [
    "from functools import reduce\n",
    "\n",
    "list_2d = [[1,2,3],[4,5,6],[7,8,9]]\n",
    "\n",
    "list_1d=reduce(lambda x,y : x+y , list_2d)\n",
    "print(list_1d)"
   ]
  },
  {
   "cell_type": "markdown",
   "metadata": {
    "id": "8-DLQEawt-_t"
   },
   "source": [
    "`Problem 15`- A dictionary contains following information about 5 employees:\n",
    "- First name\n",
    "- Last name\n",
    "- Age\n",
    "- Grade(Skilled,Semi-skilled,Highly skilled)<br>\n",
    "Write a program using map/filter/reduce to a list of employees(first name + last name) who are highly skilled"
   ]
  },
  {
   "cell_type": "code",
   "execution_count": null,
   "metadata": {
    "id": "OLvptttLs6OU"
   },
   "outputs": [],
   "source": [
    "# Write code here\n",
    "employees = [\n",
    "    {\n",
    "        'fname':'Nitish',\n",
    "        'lname':'Singh',\n",
    "        'age' : 33,\n",
    "        'grade':'skilled'\n",
    "    },\n",
    "    {\n",
    "        'fname':'Ankit',\n",
    "        'lname':'Verma',\n",
    "        'age' : 34,\n",
    "        'grade':'semi-skilled'\n",
    "    },\n",
    "    {\n",
    "        'fname':'Neha',\n",
    "        'lname':'Singh',\n",
    "        'age' : 35,\n",
    "        'grade':'highly-skilled'\n",
    "    },\n",
    "    {\n",
    "        'fname':'Anurag',\n",
    "        'lname':'Kumar',\n",
    "        'age' : 30,\n",
    "        'grade':'skilled'\n",
    "    },\n",
    "    {\n",
    "        'fname':'Abhinav',\n",
    "        'lname':'Sharma',\n",
    "        'age' : 37,\n",
    "        'grade':'highly-skilled'\n",
    "    }\n",
    "    \n",
    "]"
   ]
  },
  {
   "cell_type": "code",
   "execution_count": null,
   "metadata": {
    "colab": {
     "base_uri": "https://localhost:8080/"
    },
    "id": "vLX0FAQkui3y",
    "outputId": "e7d50543-c30e-4a20-c793-756f5a435df7"
   },
   "outputs": [
    {
     "data": {
      "text/plain": [
       "['Neha Singh', 'Abhinav Sharma']"
      ]
     },
     "execution_count": 17,
     "metadata": {},
     "output_type": "execute_result"
    }
   ],
   "source": [
    "list(map(lambda x:x['fname'] + ' ' + x['lname'],list(filter(lambda x:True if x['grade'] == 'highly-skilled' else False,employees))))"
   ]
  },
  {
   "cell_type": "code",
   "execution_count": null,
   "metadata": {
    "id": "ldMjGfkgAMr9"
   },
   "outputs": [],
   "source": []
  }
 ],
 "metadata": {
  "colab": {
   "provenance": []
  },
  "kernelspec": {
   "display_name": "Python 3 (ipykernel)",
   "language": "python",
   "name": "python3"
  },
  "language_info": {
   "codemirror_mode": {
    "name": "ipython",
    "version": 3
   },
   "file_extension": ".py",
   "mimetype": "text/x-python",
   "name": "python",
   "nbconvert_exporter": "python",
   "pygments_lexer": "ipython3",
   "version": "3.9.12"
  }
 },
 "nbformat": 4,
 "nbformat_minor": 1
}
