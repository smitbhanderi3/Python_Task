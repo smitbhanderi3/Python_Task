{
 "cells": [
  {
   "cell_type": "markdown",
   "metadata": {
    "id": "BCleRtX43caS"
   },
   "source": [
    "### `Problem-1:` Class inheritence\n",
    "\n",
    "Create a **Bus** child class that inherits from the Vehicle class. The default fare charge of any vehicle is seating capacity * 100. If Vehicle is Bus instance, we need to add an extra 10% on full fare as a maintenance charge. So total fare for bus instance will become the final amount = total fare + 10% of the total fare.\n",
    "\n",
    "Note: The bus seating capacity is 50. so the final fare amount should be 5500. You need to override the fare() method of a Vehicle class in Bus class."
   ]
  },
  {
   "cell_type": "code",
   "execution_count": 4,
   "metadata": {
    "colab": {
     "base_uri": "https://localhost:8080/"
    },
    "id": "6jVFCXKz3YZI",
    "outputId": "a8649209-08e2-4f60-a914-74a914dd697e"
   },
   "outputs": [
    {
     "name": "stdout",
     "output_type": "stream",
     "text": [
      "Total bas fare is : 5500.0\n"
     ]
    }
   ],
   "source": [
    "class Vehicle:\n",
    "    def __init__(self,seating_capacity):\n",
    "        self.seating_capacity = seating_capacity\n",
    "        \n",
    "    def fare(self):\n",
    "        return self.seating_capacity * 100\n",
    "\n",
    "class Bus(Vehicle):\n",
    "    def fare(Self):\n",
    "        total_fare = super().fare()\n",
    "        maintenance_charge = total_fare * 0.1\n",
    "        final_fare = total_fare + maintenance_charge\n",
    "        return final_fare\n",
    "    \n",
    "bus = Bus(50)\n",
    "print(\"Total bas fare is :\",bus.fare())\n",
    "    "
   ]
  },
  {
   "cell_type": "markdown",
   "metadata": {
    "id": "KBbGNTtQ47mJ"
   },
   "source": [
    "### `Problem-2:` Class Inheritence\n",
    "\n",
    "Create a Bus class that inherits from the Vehicle class. Give the capacity argument of *Bus.seating_capacity()* a default value of 50.\n",
    "\n",
    "Use the following code for your parent Vehicle class."
   ]
  },
  {
   "cell_type": "code",
   "execution_count": 10,
   "metadata": {
    "id": "MwOnYE_14M-r"
   },
   "outputs": [
    {
     "name": "stdout",
     "output_type": "stream",
     "text": [
      "Total bas fare is : 5500.0\n",
      "Total bas fare is: 3300.0\n"
     ]
    }
   ],
   "source": [
    "class Vehicle:\n",
    "    def __init__(self,seating_capacity):\n",
    "        self.seating_capacity = seating_capacity\n",
    "        \n",
    "    def fare(self):\n",
    "        return self.seating_capacity * 100\n",
    "\n",
    "class Bus(Vehicle):\n",
    "    def __init__(slef,seating_capacity=50):\n",
    "        super().__init__(seating_capacity)\n",
    "        \n",
    "    def fare(Self):\n",
    "        total_fare = super().fare()\n",
    "        maintenance_charge = total_fare * 0.1\n",
    "        final_fare = total_fare + maintenance_charge\n",
    "        return final_fare\n",
    "    \n",
    "bus = Bus()\n",
    "bus2= Bus(30)\n",
    "print(\"Total bas fare is :\",bus.fare())\n",
    "print(\"Total bas fare is:\",bus2.fare())"
   ]
  },
  {
   "cell_type": "code",
   "execution_count": null,
   "metadata": {
    "id": "Py5Gr0ip5OBB"
   },
   "outputs": [],
   "source": []
  },
  {
   "cell_type": "markdown",
   "metadata": {
    "id": "ExIxsv4y-oEd"
   },
   "source": [
    "### `Problem-3:` Write a program that has a class Point. Define another class Location which has two objects (Location & Destination) of class Point. Also define a function in Location that prints the reflection of Destination on the x axis."
   ]
  },
  {
   "cell_type": "code",
   "execution_count": 10,
   "metadata": {},
   "outputs": [],
   "source": [
    "class Point:\n",
    "    def __init__(self, x=0,y=0):\n",
    "        self.x = x\n",
    "        self.y = y\n",
    "\n",
    "class Location:\n",
    "    def __init__(self,loc,dest):\n",
    "        self.loc = loc\n",
    "        self.dest = dest\n",
    "    \n",
    "    def reflect_on_x_axis(self):\n",
    "        reflected_y = -1 * self.dest.y\n",
    "        reflected_dest = Point(self.dest.x,reflected_y)\n",
    "        print(\"The reflection of the Destination point on the x-axis is: ({}, {})\".format(reflected_dest.x, reflected_dest.y))\n"
   ]
  },
  {
   "cell_type": "code",
   "execution_count": 11,
   "metadata": {},
   "outputs": [
    {
     "name": "stdout",
     "output_type": "stream",
     "text": [
      "The reflection of the Destination point on the x-axis is: (5, -7)\n"
     ]
    }
   ],
   "source": [
    "loc = Point(0,0)\n",
    "dest = Point(5,7)\n",
    "loc_dest = Location(loc,dest)\n",
    "loc_dest.reflect_on_x_axis()"
   ]
  },
  {
   "cell_type": "markdown",
   "metadata": {
    "id": "OcQhJvXVALgp"
   },
   "source": [
    "### `Problem-4:` Write a program that has an abstract class Polygon. Derive two classes Rectangle and Triamgle from Polygon and write methods to get the details of their dimensions and hence calculate the area."
   ]
  },
  {
   "cell_type": "code",
   "execution_count": 13,
   "metadata": {
    "id": "9IMrtdUH__eA"
   },
   "outputs": [],
   "source": [
    "from abc import ABC, abstractmethod\n",
    "\n",
    "class Polygon(ABC):\n",
    "    @abstractmethod\n",
    "    def get_dimensions(self):\n",
    "        pass\n",
    "    \n",
    "    @abstractmethod\n",
    "    def area(self):\n",
    "        pass\n",
    "\n",
    "class Rectangle(Polygon):\n",
    "    def get_dimensions(self):\n",
    "        self.length = float(input(\"Enter the length of the rectangle: \"))\n",
    "        self.width = float(input(\"Enter the width of the rectangle: \"))\n",
    "    \n",
    "    def area(self):\n",
    "        return self.length * self.width\n",
    "\n",
    "class Triangle(Polygon):\n",
    "    def get_dimensions(self):\n",
    "        self.base = float(input(\"Enter the base of the triangle: \"))\n",
    "        self.height = float(input(\"Enter the height of the triangle: \"))\n",
    "    \n",
    "    def area(self):\n",
    "        return 0.5 * self.base * self.height\n",
    "\n",
    "\n",
    "\n",
    "\n"
   ]
  },
  {
   "cell_type": "code",
   "execution_count": 14,
   "metadata": {},
   "outputs": [
    {
     "name": "stdout",
     "output_type": "stream",
     "text": [
      "Enter the length of the rectangle: 100\n",
      "Enter the width of the rectangle: 100\n",
      "The area of the rectangle is: 10000.0\n",
      "Enter the base of the triangle: 100\n",
      "Enter the height of the triangle: 200\n",
      "The area of the triangle is: 10000.0\n"
     ]
    }
   ],
   "source": [
    "# Example usage\n",
    "rectangle = Rectangle()\n",
    "rectangle.get_dimensions()\n",
    "rectangle_area = rectangle.area()\n",
    "print(\"The area of the rectangle is:\", rectangle_area)\n",
    "\n",
    "triangle = Triangle()\n",
    "triangle.get_dimensions()\n",
    "triangle_area = triangle.area()\n",
    "print(\"The area of the triangle is:\", triangle_area)"
   ]
  },
  {
   "cell_type": "markdown",
   "metadata": {
    "id": "sEsGEqOHCSWG"
   },
   "source": [
    "### `Problem-5:` Write a program with class Bill. The users have the option to pay the bill either by cheque or by cash. Use the inheritance to model this situation."
   ]
  },
  {
   "cell_type": "code",
   "execution_count": 17,
   "metadata": {
    "id": "l0WFyP2PB3nf"
   },
   "outputs": [],
   "source": [
    "class Bill:\n",
    "    def __init__(self, total_amount):\n",
    "        self.total_amount = total_amount\n",
    "    \n",
    "    def display_total_amount(self):\n",
    "        print(\"Total amount:\", self.total_amount)\n",
    "\n",
    "        \n",
    "class ChequeBill(Bill):\n",
    "    def __init__(self, total_amount, cheque_number):\n",
    "        super().__init__(total_amount)\n",
    "        self.cheque_number = cheque_number\n",
    "    \n",
    "    def display_cheque_details(self):\n",
    "        print(\"Paying by cheque.\")\n",
    "        print(\"Cheque number:\", self.cheque_number)\n",
    "\n",
    "class CashBill(Bill):\n",
    "    def __init__(self, total_amount, cash_given):\n",
    "        super().__init__(total_amount)\n",
    "        self.cash_given = cash_given\n",
    "    \n",
    "    def display_cash_details(self):\n",
    "        print(\"Paying by cash.\")\n",
    "        print(\"Cash given:\", self.cash_given)\n",
    "        print(\"Change:\", self.cash_given - self.total_amount)\n",
    "\n",
    "\n"
   ]
  },
  {
   "cell_type": "code",
   "execution_count": 18,
   "metadata": {},
   "outputs": [
    {
     "name": "stdout",
     "output_type": "stream",
     "text": [
      "Total amount: 100.0\n",
      "Paying by cheque.\n",
      "Cheque number: 1234\n",
      "Total amount: 100.0\n",
      "Paying by cash.\n",
      "Cash given: 150.0\n",
      "Change: 50.0\n"
     ]
    }
   ],
   "source": [
    "# Example usage\n",
    "total_amount = 100.0\n",
    "cheque_bill = ChequeBill(total_amount, 1234)\n",
    "cheque_bill.display_total_amount()\n",
    "cheque_bill.display_cheque_details()\n",
    "\n",
    "cash_bill = CashBill(total_amount, 150.0)\n",
    "cash_bill.display_total_amount()\n",
    "cash_bill.display_cash_details()\n"
   ]
  },
  {
   "cell_type": "markdown",
   "metadata": {
    "id": "v1M5Yh9ZZO0z"
   },
   "source": [
    "###`Q-6:` FlexibleDict\n",
    "As of now we are accessing values from dictionary with exact keys. Now we want to amend accessing values functionality. if a dict have key `1` (int) the even if we try to access values by giving `'1'` (1 as str) as key, we should get the same result and vice versa.\n",
    "\n",
    "Write a class `FlexibleDict` upon builtin `dict` class with above required functionality.\n",
    "\n",
    "Hint- `dict[key] => dict.__getitem__(key)` "
   ]
  },
  {
   "cell_type": "markdown",
   "metadata": {
    "id": "uajGeWegbfda"
   },
   "source": [
    "Ex.\n",
    "```\n",
    "fd = FlexibleDict()\n",
    "fd['a'] = 100\n",
    "print(fd['a']) # Like regular dict\n",
    "\n",
    "fd[5] = 500\n",
    "print(fd[5]) # Like regular dict\n",
    "\n",
    "fd[1] = 100\n",
    "print(fd['1']) # actual Key is int but still trying to access through str key.\n",
    "fd['1'] = 100\n",
    "print(fd[1])\n",
    "\n",
    "```\n",
    "`Output:`\n",
    "```\n",
    "100\n",
    "500\n",
    "100\n",
    "100\n",
    "\n",
    "```"
   ]
  },
  {
   "cell_type": "code",
   "execution_count": 19,
   "metadata": {
    "id": "OHLbOtCxZ2nw"
   },
   "outputs": [],
   "source": [
    "class FlexibleDict(dict):\n",
    "    def __getitem__(self, key):\n",
    "        for k in self.keys():\n",
    "            if str(k) == str(key):\n",
    "                return super().__getitem__(k)\n",
    "        raise KeyError(key)"
   ]
  },
  {
   "cell_type": "code",
   "execution_count": 21,
   "metadata": {
    "id": "7NM8r__dmeMf"
   },
   "outputs": [
    {
     "name": "stdout",
     "output_type": "stream",
     "text": [
      "100\n",
      "100\n",
      "500\n",
      "500\n",
      "Key not found.\n"
     ]
    }
   ],
   "source": [
    "flex_dict = FlexibleDict()\n",
    "flex_dict[1] = 100\n",
    "print(flex_dict[1])   # \"one\"\n",
    "print(flex_dict[\"1\"]) # \"one\"\n",
    "\n",
    "flex_dict[\"2\"] = 500\n",
    "print(flex_dict[2])   # \"two\"\n",
    "print(flex_dict[\"2\"]) # \"two\"\n",
    "\n",
    "try:\n",
    "    print(flex_dict[3])\n",
    "except KeyError:\n",
    "    print(\"Key not found.\")"
   ]
  },
  {
   "cell_type": "code",
   "execution_count": null,
   "metadata": {
    "id": "waHSud8Ymkz-"
   },
   "outputs": [],
   "source": []
  }
 ],
 "metadata": {
  "colab": {
   "collapsed_sections": [
    "BCleRtX43caS",
    "KBbGNTtQ47mJ",
    "ExIxsv4y-oEd",
    "OcQhJvXVALgp",
    "sEsGEqOHCSWG",
    "v1M5Yh9ZZO0z"
   ],
   "provenance": []
  },
  "kernelspec": {
   "display_name": "Python 3 (ipykernel)",
   "language": "python",
   "name": "python3"
  },
  "language_info": {
   "codemirror_mode": {
    "name": "ipython",
    "version": 3
   },
   "file_extension": ".py",
   "mimetype": "text/x-python",
   "name": "python",
   "nbconvert_exporter": "python",
   "pygments_lexer": "ipython3",
   "version": "3.9.12"
  }
 },
 "nbformat": 4,
 "nbformat_minor": 1
}
