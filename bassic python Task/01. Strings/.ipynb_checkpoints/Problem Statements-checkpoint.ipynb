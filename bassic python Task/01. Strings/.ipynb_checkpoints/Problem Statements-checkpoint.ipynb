{
 "cells": [
  {
   "cell_type": "markdown",
   "metadata": {},
   "source": [
    "## Python Data Type: String - Exercises"
   ]
  },
  {
   "cell_type": "markdown",
   "metadata": {},
   "source": [
    "#### 1. Write a Python program to count the number of characters (character frequency) in a string \n",
    "* Sample String : google.com'\n",
    "* Expected Result : {'o': 3, 'g': 2, '.': 1, 'e': 1, 'l': 1, 'm': 1, 'c': 1}"
   ]
  },
  {
   "cell_type": "code",
   "execution_count": 9,
   "metadata": {},
   "outputs": [
    {
     "name": "stdout",
     "output_type": "stream",
     "text": [
      "enter the stringgoogle.com\n",
      "{'g': 2, 'o': 3, 'l': 1, 'e': 1, '.': 1, 'c': 1, 'm': 1}\n"
     ]
    }
   ],
   "source": [
    "str1 = input(\"enter the string\")\n",
    "d1=dict()\n",
    "for x in str1:\n",
    "    if x in d1:\n",
    "        d1[x] = d1[x]+1\n",
    "    else:\n",
    "         d1[x]= 1\n",
    "print(d1)\n",
    "\n"
   ]
  },
  {
   "cell_type": "markdown",
   "metadata": {},
   "source": [
    "#### 2. Write a Python program to get a string from a given string where all occurrences of its first char have been changed to '$' ,except the first char itself\n",
    "\n",
    "* Sample String : 'restart'\n",
    "* Expected Result : 'resta$t' "
   ]
  },
  {
   "cell_type": "code",
   "execution_count": 1,
   "metadata": {},
   "outputs": [
    {
     "name": "stdout",
     "output_type": "stream",
     "text": [
      "expected result : \n",
      "resta$t\n"
     ]
    }
   ],
   "source": [
    "str = ('restart')\n",
    " \n",
    "chr=str[0]\n",
    "str = str.replace(chr, '$')\n",
    "str= chr + str[1:]\n",
    "print(\"expected result : \")\n",
    "print(str)"
   ]
  },
  {
   "cell_type": "markdown",
   "metadata": {},
   "source": [
    "#### 3. Write a Python function that takes a list of words and returns the length of the longest one"
   ]
  },
  {
   "cell_type": "code",
   "execution_count": 2,
   "metadata": {},
   "outputs": [
    {
     "name": "stdout",
     "output_type": "stream",
     "text": [
      "The word with the longest length is: onesmitbhanderi  and length is  15\n"
     ]
    }
   ],
   "source": [
    "# function to find the longest length in the list\n",
    "a = [\"onesmitbhanderi\", \"twoniharpatel\", \"thirdvasupatel\", \"fourvfdvv\"]\n",
    "def longestLength(words):\n",
    "    List = []\n",
    "    for word in words:\n",
    "        List.append((len(word), word))\n",
    "    List.sort()\n",
    "    print(\"The word with the longest length is:\", List[-1][1],\n",
    "        \" and length is \", len(List[-1][1]))\n",
    "\n",
    "longestLength(a)\n"
   ]
  },
  {
   "cell_type": "markdown",
   "metadata": {},
   "source": [
    "#### 4. Write a Python program to count the occurrences of each word in a given sentence"
   ]
  },
  {
   "cell_type": "code",
   "execution_count": 13,
   "metadata": {},
   "outputs": [
    {
     "name": "stdout",
     "output_type": "stream",
     "text": [
      "{'smit': 1, 'bhanderi': 1, 'and': 2, 'nihar': 1, 'in': 1, 'data': 2, 'science': 1, 'anlysis.': 1}\n"
     ]
    }
   ],
   "source": [
    "def word_count(str):\n",
    "    counts = dict()\n",
    "    words = str.split()\n",
    "\n",
    "    for word in words:\n",
    "        if word in counts:\n",
    "            counts[word] += 1\n",
    "        else:\n",
    "            counts[word] = 1\n",
    "\n",
    "    return counts\n",
    "\n",
    "print( word_count('smit bhanderi and nihar in data science and data anlysis.'))\n",
    "\n",
    "\n"
   ]
  },
  {
   "cell_type": "markdown",
   "metadata": {},
   "source": [
    "#### 5. Write a Python function to convert a given string to all uppercase if it contains at least 2 uppercase characters in the first 4 characters."
   ]
  },
  {
   "cell_type": "code",
   "execution_count": 17,
   "metadata": {},
   "outputs": [
    {
     "name": "stdout",
     "output_type": "stream",
     "text": [
      "Enter the String :SmIT\n",
      "SMIT\n",
      "SmIT\n"
     ]
    }
   ],
   "source": [
    "str = input(\"Enter the String :\")\n",
    "num_upper = 0\n",
    "for l in str[:4]: \n",
    "    if l.upper() == l:\n",
    "        num_upper += 1\n",
    "if num_upper >= 2:\n",
    "    print(str.upper())\n",
    "print(str)"
   ]
  },
  {
   "cell_type": "markdown",
   "metadata": {},
   "source": [
    "#### 6. Write a Python program to count and display the vowels of a given text"
   ]
  },
  {
   "cell_type": "code",
   "execution_count": 18,
   "metadata": {},
   "outputs": [
    {
     "name": "stdout",
     "output_type": "stream",
     "text": [
      "Enter string:smitbhanderi\n",
      "Number of vowels are:\n",
      "4\n"
     ]
    }
   ],
   "source": [
    "str=input(\"Enter string:\")\n",
    "vowels=0\n",
    "for i in str:\n",
    "      if(i=='a' or i=='e' or i=='i' or i=='o' or i=='u' or i=='A' or i=='E' or i=='I' or i=='O' or i=='U'):\n",
    "            vowels=vowels+1\n",
    "print(\"Number of vowels are:\")\n",
    "print(vowels)"
   ]
  },
  {
   "cell_type": "code",
   "execution_count": null,
   "metadata": {},
   "outputs": [],
   "source": []
  }
 ],
 "metadata": {
  "kernelspec": {
   "display_name": "Python 3 (ipykernel)",
   "language": "python",
   "name": "python3"
  },
  "language_info": {
   "codemirror_mode": {
    "name": "ipython",
    "version": 3
   },
   "file_extension": ".py",
   "mimetype": "text/x-python",
   "name": "python",
   "nbconvert_exporter": "python",
   "pygments_lexer": "ipython3",
   "version": "3.9.12"
  }
 },
 "nbformat": 4,
 "nbformat_minor": 2
}
