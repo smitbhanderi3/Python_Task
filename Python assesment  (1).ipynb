{
 "cells": [
  {
   "cell_type": "code",
   "execution_count": 4,
   "id": "8a5a04c9",
   "metadata": {
    "scrolled": true
   },
   "outputs": [
    {
     "name": "stdout",
     "output_type": "stream",
     "text": [
      "enter a odd number5\n",
      "sum of odd nummber is   9\n"
     ]
    }
   ],
   "source": [
    "#1). Write a python program using function to find the sum of odd series\n",
    "# Odd series: 1/ 1! + 3/3! + 5/ 5! + .... + n/n ! \n",
    "\n",
    "odd_series=int(input(\"enter a odd number\"))\n",
    "sum=0\n",
    "x=1\n",
    "while x<=odd_series:\n",
    "    if x%2==1:\n",
    "        sum=sum+x\n",
    "    x=x+1\n",
    "print(\"sum of odd nummber is  \",sum)\n",
    "s"
   ]
  },
  {
   "cell_type": "code",
   "execution_count": 3,
   "id": "a5971837",
   "metadata": {},
   "outputs": [
    {
     "name": "stdout",
     "output_type": "stream",
     "text": [
      "{1: 5, 5: 2, 3: 3, 4: 3, 2: 4}\n"
     ]
    }
   ],
   "source": [
    "#2). Counting the frequencies in a list using dictionary in Python.\n",
    "#Input: [1, 1, 1, 5, 5, 3, 1, 3, 3, 1,4, 4, 4, 2, 2, 2, 2]\n",
    "#Expected output: 1 : 5 , 2 : 4 , 3 : 3 , 4 : 3 , 5 : 2\n",
    "\n",
    "\n",
    "list=[1, 1, 1, 5, 5, 3, 1, 3, 3, 1, 4, 4, 4, 2, 2, 2, 2]\n",
    "list1={}\n",
    "for i in list:\n",
    "    list1[i]=list1.get(i,0)+1\n",
    "print(list1)\n"
   ]
  },
  {
   "cell_type": "code",
   "execution_count": 1,
   "id": "664600ee",
   "metadata": {},
   "outputs": [
    {
     "name": "stdout",
     "output_type": "stream",
     "text": [
      "            \n",
      "         1     \n",
      "      1     2     \n",
      "   1     2     3     \n",
      "1     2     3     4     \n"
     ]
    }
   ],
   "source": [
    "#3)3. WAP to print the pattern as shown below:\n",
    "for i  in range(1,6):\n",
    "    for k in range(1,6-i):\n",
    "        print(\"  \",end=\" \",)\n",
    "    for j in range(1,(1*i)):\n",
    "        print(j,\"  \", end=\"  \")\n",
    "   \n",
    "    print()\n"
   ]
  },
  {
   "cell_type": "code",
   "execution_count": null,
   "id": "283b64a6",
   "metadata": {},
   "outputs": [],
   "source": [
    "#4)4. Write a Python function that takes a list and returns a new list with\n",
    "#unique elements of the first list.\n",
    "\n",
    "l1=(10,20,20,30,40,50,50,50,60,70)\n",
    "unique_list=list(l1)\n",
    "for j in unique_list:\n",
    "    if unique_list.count(j)>1:\n",
    "        unique_list.remove(j)\n",
    "        \n",
    "print(unique_list)"
   ]
  },
  {
   "cell_type": "code",
   "execution_count": 7,
   "id": "dfaa6c29",
   "metadata": {},
   "outputs": [
    {
     "name": "stdout",
     "output_type": "stream",
     "text": [
      "string is not pangram\n"
     ]
    }
   ],
   "source": [
    "#5)Write a Python function to check whether a string is a pangram or not.\n",
    "# Note: Pangrams are words or sentences containing every letter of the alphabet at leastonce.\n",
    "# For example: \"The quick brown fox jumps over the lazy dog\" is Pangram.  \n",
    "\n",
    "def function(str):\n",
    "    a = 'abcdefghijklmnopqrstuvwxyz'\n",
    "    for i in a:\n",
    "        if i not in str.lower():\n",
    "            return False\n",
    "    return True\n",
    "str = 'smittims'\n",
    "if(function(str) == True):\n",
    "    print(\"string is pangram\")\n",
    "else:\n",
    "    print(\"string is not pangram\")\n",
    "    \n",
    "        "
   ]
  },
  {
   "cell_type": "code",
   "execution_count": 13,
   "id": "d25aa0af",
   "metadata": {},
   "outputs": [
    {
     "name": "stdout",
     "output_type": "stream",
     "text": [
      "Original List :  [1, 1, 1, 4, 4, 4, 6, 5, 4]\n",
      "New List [1, 4, 5, 6]\n"
     ]
    }
   ],
   "source": [
    "l1=[1,1,1,4,4,4,6,5,4]\n",
    "rl= lambda numbers : list(set(numbers))\n",
    " \n",
    "print(\"Original List : \", l1)\n",
    "l2 =rl(l1)\n",
    "print(\"New List\", l2)"
   ]
  },
  {
   "cell_type": "code",
   "execution_count": 14,
   "id": "d095d0c5",
   "metadata": {},
   "outputs": [
    {
     "ename": "SyntaxError",
     "evalue": "invalid syntax (2872173730.py, line 2)",
     "output_type": "error",
     "traceback": [
      "\u001b[1;36m  Input \u001b[1;32mIn [14]\u001b[1;36m\u001b[0m\n\u001b[1;33m    b = ''.join([char for char in a if a.count(char) > 1 else a])\u001b[0m\n\u001b[1;37m                                                         ^\u001b[0m\n\u001b[1;31mSyntaxError\u001b[0m\u001b[1;31m:\u001b[0m invalid syntax\n"
     ]
    }
   ],
   "source": [
    "a = \"smitbhanderi\"\n",
    "\n"
   ]
  },
  {
   "cell_type": "code",
   "execution_count": null,
   "id": "ee1d1e57",
   "metadata": {},
   "outputs": [],
   "source": []
  }
 ],
 "metadata": {
  "kernelspec": {
   "display_name": "Python 3 (ipykernel)",
   "language": "python",
   "name": "python3"
  },
  "language_info": {
   "codemirror_mode": {
    "name": "ipython",
    "version": 3
   },
   "file_extension": ".py",
   "mimetype": "text/x-python",
   "name": "python",
   "nbconvert_exporter": "python",
   "pygments_lexer": "ipython3",
   "version": "3.9.12"
  }
 },
 "nbformat": 4,
 "nbformat_minor": 5
}
