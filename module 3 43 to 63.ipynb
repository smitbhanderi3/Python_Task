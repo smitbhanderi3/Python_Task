{
 "cells": [
  {
   "cell_type": "code",
   "execution_count": null,
   "id": "256b29e0",
   "metadata": {},
   "outputs": [],
   "source": [
    "#43)why do you use the zip() method in python?\n",
    "#python\"s zip() function creates an iterator that will aggregate element froomm two or more iteeable>\n"
   ]
  },
  {
   "cell_type": "code",
   "execution_count": null,
   "id": "64bb2326",
   "metadata": {},
   "outputs": [],
   "source": [
    "#44) Write a Python program to create and display all combinations of letters,selecting each letter from a different key in a dictionary.\n",
    "\n",
    "d ={'1':['a','b'], '2':['c','d']}\n",
    "\n",
    "for k,v in d:\n",
    "    print(k,v)\n"
   ]
  },
  {
   "cell_type": "code",
   "execution_count": null,
   "id": "f61a194c",
   "metadata": {},
   "outputs": [],
   "source": [
    "#45)Write a Python program to find the highest 3 values in a dictionary.\n",
    "from collections import Counter\n",
    "d1={'a':500,'b':40990,'c':400,'d':3000,'e':50090}\n",
    "k=Counter(d1)\n",
    "high=k.most_common(3)\n",
    "for i in high:\n",
    "    print(i[0],\":\",i[1],\" \")\n"
   ]
  },
  {
   "cell_type": "code",
   "execution_count": null,
   "id": "91907fc2",
   "metadata": {},
   "outputs": [],
   "source": [
    "#46)Write a Python program to combine values in python list of dictionaries.\n",
    "\n",
    "from collections import Counter\n",
    "i_list=[{'i':'i1','amount':400},{'i':'i2','amount':500},{'i':'i3','amount':750}]\n",
    "result=Counter()\n",
    "for d in i_list:\n",
    "        result[d['i']] += d['amount']\n",
    "print(result)"
   ]
  },
  {
   "cell_type": "code",
   "execution_count": null,
   "id": "81d01c32",
   "metadata": {},
   "outputs": [],
   "source": [
    "#47) Write a Python program to create a dictionary from a string.o Note: Track the count of the letters from the string. Sample string:\n",
    "\n",
    "from collections import Counter\n",
    "str1='hellopython'\n",
    "my_dict={}\n",
    "for letter in str1:\n",
    "    my_dict[letter]=my_dict.get(letter,0)+1\n",
    "print(my_dict)\n"
   ]
  },
  {
   "cell_type": "code",
   "execution_count": null,
   "id": "916e3cbb",
   "metadata": {},
   "outputs": [],
   "source": [
    "#48)Write a Python function to calculate the factorial of a number.\n",
    "\n",
    "from math import factorial\n",
    "factorial(4)\n"
   ]
  },
  {
   "cell_type": "code",
   "execution_count": null,
   "id": "ae8cb5d2",
   "metadata": {},
   "outputs": [],
   "source": [
    "#49)Write a Python function to check whether a number is in a given range.\n",
    "\n",
    "def renge(n):\n",
    "    if n in range(3,9):\n",
    "        print(\" %s is in the range\"%str(n))\n",
    "    else:\n",
    "         print(\"the number is outside the given rang\")\n",
    "range(5)\n",
    "\n"
   ]
  },
  {
   "cell_type": "code",
   "execution_count": null,
   "id": "95181219",
   "metadata": {},
   "outputs": [],
   "source": [
    "#50)Write a Python function to check whether a number is perfect or not.\n",
    "\n",
    "def perfect_num(n):\n",
    "    sum = 0\n",
    "    for x in range(1, n):\n",
    "        if n % x == 0:\n",
    "            sum += x\n",
    "    return sum== n\n",
    "print(perfect_num(6))"
   ]
  },
  {
   "cell_type": "code",
   "execution_count": 16,
   "id": "3ae932a1",
   "metadata": {},
   "outputs": [
    {
     "name": "stdout",
     "output_type": "stream",
     "text": [
      "Enter a String : assa\n",
      "String is a palindrome string\n"
     ]
    }
   ],
   "source": [
    "#51)Write a Python function that checks whether a passed string is palindrome or not.\n",
    "def pel(string):\n",
    "    if string[::-1] == string: return print(\"String is a palindrome string\")\n",
    "    return print('Not palindrome')\n",
    "s = input('Enter a String : ')\n",
    "pel(s)\n"
   ]
  },
  {
   "cell_type": "code",
   "execution_count": null,
   "id": "efddf52f",
   "metadata": {},
   "outputs": [],
   "source": [
    "#52)How do you perform pattern matching in Python? Explain\n",
    "#next module:\n",
    "\n",
    "\n"
   ]
  },
  {
   "cell_type": "code",
   "execution_count": 17,
   "id": "830ee027",
   "metadata": {},
   "outputs": [
    {
     "data": {
      "text/plain": [
       "21"
      ]
     },
     "execution_count": 17,
     "metadata": {},
     "output_type": "execute_result"
    }
   ],
   "source": [
    "#53)What is lambda function in python? What we call a function which is incomplete version of a function?\n",
    "x = lambda a,b,*c : a + b + sum(c)\n",
    "x(2,4,4,5,6)"
   ]
  },
  {
   "cell_type": "code",
   "execution_count": null,
   "id": "37119fee",
   "metadata": {},
   "outputs": [],
   "source": [
    "#54)How Many Basic Types Of Functions Are Available In Python?\n",
    "#1) in-bult function:\n",
    "    #eval,filter,map,zip\n",
    "#2) user difine function:\n",
    "    #def ,\n",
    "    #defiene argument\n",
    "    #keyword parameter\n",
    "    #arebitry keywords argument\n",
    "#3)anonymous function:\n",
    "    "
   ]
  },
  {
   "cell_type": "code",
   "execution_count": null,
   "id": "6911b1b7",
   "metadata": {},
   "outputs": [],
   "source": [
    "#55)How can you pick a random item from a list or tuple?\n",
    "\n",
    "#example:\n",
    "\n",
    "import random as r\n",
    "l1=[1,2,3,45,67,66,88,76,78,665,997]\n",
    "r.choice(l1)"
   ]
  },
  {
   "cell_type": "code",
   "execution_count": null,
   "id": "5d6f6765",
   "metadata": {},
   "outputs": [],
   "source": [
    "#56)How can you pick a random item from a range?\n",
    "\n",
    "import random as r\n",
    "\n",
    "r.choice(range(10,100))\n"
   ]
  },
  {
   "cell_type": "code",
   "execution_count": null,
   "id": "bb55d7e4",
   "metadata": {},
   "outputs": [],
   "source": [
    "#57)How can you get a random number in python?\n",
    "\n",
    "import random \n",
    "n=random.random()\n",
    "print(n)"
   ]
  },
  {
   "cell_type": "code",
   "execution_count": null,
   "id": "ea389dbd",
   "metadata": {},
   "outputs": [],
   "source": [
    "#58)How will you set the starting value in generating random numbers?\n",
    "\n",
    "import random\n",
    "for i in range(1):\n",
    "    print(random.randint(1,1000))\n"
   ]
  },
  {
   "cell_type": "code",
   "execution_count": null,
   "id": "dfd9d370",
   "metadata": {},
   "outputs": [],
   "source": [
    "#58)How will you randomizes the items of a list in place?\n",
    "import random\n",
    "n=[1,2,3,4,5,6]\n",
    "random.choice(n)\n"
   ]
  },
  {
   "cell_type": "code",
   "execution_count": null,
   "id": "7a1e273a",
   "metadata": {},
   "outputs": [],
   "source": [
    "#59)Write a Python program to convert degree to radian.\n",
    "pi=22/7\n",
    "degree=float(input(\"enter input in degree\"))\n",
    "radian=degree*pi/180\n",
    "print(\"the value of radian is :\",radian)\n"
   ]
  },
  {
   "cell_type": "code",
   "execution_count": null,
   "id": "150451c4",
   "metadata": {},
   "outputs": [],
   "source": [
    "#60)Write a Python program to calculate the area of a trapezoid.\n",
    "base1=5\n",
    "base2=6\n",
    "height=float(input(\"height of trapezoid: \"))\n",
    "basel=float(input(\"base one value: \"))\n",
    "base2=float(input(\"base two value: \"))\n",
    "area=0.5*((base1+base2) / 2) * height\n",
    "print(\"area is : \",area)"
   ]
  },
  {
   "cell_type": "code",
   "execution_count": null,
   "id": "728a9d0f",
   "metadata": {},
   "outputs": [],
   "source": [
    "#61)Write a Python program to calculate the area of a parallelogram.\n",
    "\n",
    "base= float(input('enter in length of base'))\n",
    "height= float(input('enter in measurement of hight:'))\n",
    "area=base*height\n",
    "print(\"area is :\", area)\n",
    "\n"
   ]
  },
  {
   "cell_type": "code",
   "execution_count": null,
   "id": "b73370b5",
   "metadata": {},
   "outputs": [],
   "source": [
    "#62)Write a Python program to calculate surface volume and area of a cylinder.\n",
    "\n",
    "pi=22/7\n",
    "height= float(input('enter in cylinder of hight:'))\n",
    "radian= float(input('radius of cylinder:'))\n",
    "volume= pi*radian*radian*height\n",
    "surface_area=((2*pi*radian)*height )+((pi*radian**2)*2)\n",
    "print(\"volume is :\" ,volume)\n",
    "print(\"surface Area is : \",surface_area)\n"
   ]
  },
  {
   "cell_type": "code",
   "execution_count": 2,
   "id": "18ddc2f0",
   "metadata": {},
   "outputs": [
    {
     "name": "stdout",
     "output_type": "stream",
     "text": [
      "7\n",
      "16\n"
     ]
    }
   ],
   "source": [
    "#63)Write a Python program to returns sum of all divisors of a number.\n",
    "\n",
    "def sum_div(number):\n",
    "    divisors = [1]\n",
    "    for i in range(2, number):\n",
    "        if (number % i)==0:\n",
    "            divisors.append(i)\n",
    "    return sum(divisors)\n",
    "print(sum_div(8))\n",
    "print(sum_div(12))"
   ]
  },
  {
   "cell_type": "code",
   "execution_count": 14,
   "id": "59aa0f90",
   "metadata": {},
   "outputs": [
    {
     "name": "stdout",
     "output_type": "stream",
     "text": [
      "maximum:  7.25\n",
      "minimum:  0.4\n"
     ]
    }
   ],
   "source": [
    "#63)Write a Python program to find the maximum and minimum numbers from the specified decimal numbers.\n",
    "\n",
    "from decimal import *\n",
    "data=list(map(Decimal,'2.45 2.60 2.45 3.45 2.00 00.4 7.25'.split() ))\n",
    "print(\"maximum: \",max(data))\n",
    "print(\"minimum: \",min(data))"
   ]
  },
  {
   "cell_type": "code",
   "execution_count": null,
   "id": "3807c5c5",
   "metadata": {},
   "outputs": [],
   "source": []
  }
 ],
 "metadata": {
  "kernelspec": {
   "display_name": "Python 3 (ipykernel)",
   "language": "python",
   "name": "python3"
  },
  "language_info": {
   "codemirror_mode": {
    "name": "ipython",
    "version": 3
   },
   "file_extension": ".py",
   "mimetype": "text/x-python",
   "name": "python",
   "nbconvert_exporter": "python",
   "pygments_lexer": "ipython3",
   "version": "3.9.12"
  }
 },
 "nbformat": 4,
 "nbformat_minor": 5
}
